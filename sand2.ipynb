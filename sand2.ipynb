{
 "cells": [
  {
   "cell_type": "code",
   "execution_count": 1,
   "metadata": {},
   "outputs": [],
   "source": [
    "from sympy import *\n",
    "import matplotlib.pyplot as plt\n",
    "import numpy as np\n",
    "import torch"
   ]
  },
  {
   "cell_type": "code",
   "execution_count": 5,
   "metadata": {},
   "outputs": [],
   "source": [
    "from sympy.abc import *\n",
    "init_printing()"
   ]
  },
  {
   "cell_type": "code",
   "execution_count": 19,
   "metadata": {},
   "outputs": [
    {
     "data": {
      "text/plain": [
       "(tensor([[ 0.1348,  2.0245, -0.1113,  0.4927],\n",
       "         [ 0.3814, -0.7909,  0.7511, -0.0746],\n",
       "         [-0.5747, -0.4016,  1.9392, -0.1531]], requires_grad=True),\n",
       " tensor([[-0.2774,  1.0242, -0.3862,  0.4580,  0.4483],\n",
       "         [-0.7322, -0.0132,  0.3465, -0.3648, -1.3270],\n",
       "         [ 0.1462, -0.4332,  0.5139, -1.1970,  0.5079],\n",
       "         [-0.6693, -0.0869, -0.5298, -0.6967, -1.7185]], requires_grad=True))"
      ]
     },
     "execution_count": 19,
     "metadata": {},
     "output_type": "execute_result"
    }
   ],
   "source": [
    "a,b"
   ]
  },
  {
   "cell_type": "code",
   "execution_count": 44,
   "metadata": {},
   "outputs": [],
   "source": [
    "a = torch.randn(3,4,requires_grad=True)\n",
    "b = torch.randn(4,5,requires_grad=True)\n",
    "c = torch.randn(5,requires_grad =True)"
   ]
  },
  {
   "cell_type": "code",
   "execution_count": 45,
   "metadata": {},
   "outputs": [],
   "source": [
    "h1 = a@b \n",
    "h2 = h1 + c\n",
    "h3 = h2**2\n",
    "s = h3.sum()\n",
    "for i in [h1, h2, h3,s]:i.retain_grad()\n",
    "s.backward()"
   ]
  },
  {
   "cell_type": "code",
   "execution_count": 53,
   "metadata": {},
   "outputs": [
    {
     "name": "stdout",
     "output_type": "stream",
     "text": [
      "tensor(1.) \n",
      "\n",
      "tensor([[1., 1., 1., 1., 1.],\n",
      "        [1., 1., 1., 1., 1.],\n",
      "        [1., 1., 1., 1., 1.]]) \n",
      "\n",
      "tensor([[-5.3214, -0.2512,  1.8437, -0.8867,  2.5466],\n",
      "        [-0.6021,  4.7449, 10.2477,  1.9859,  1.7672],\n",
      "        [-6.2730,  4.4697,  0.5618, -3.7994,  4.1503]]) \n",
      "\n",
      "tensor([[-5.3214, -0.2512,  1.8437, -0.8867,  2.5466],\n",
      "        [-0.6021,  4.7449, 10.2477,  1.9859,  1.7672],\n",
      "        [-6.2730,  4.4697,  0.5618, -3.7994,  4.1503]]) \n",
      "\n",
      "tensor([-12.1965,   8.9634,  12.6532,  -2.7003,   8.4641]) \n",
      "\n",
      "tensor([[ -1.1196,   1.3536,  -4.1410,   8.6050],\n",
      "        [  3.4618, -30.5656,  11.2763,  19.6405],\n",
      "        [  4.2650,   7.3033,  -7.7193,  16.3720]]) \n",
      "\n",
      "tensor([[-5.0178,  8.9532,  7.2192, -2.5765,  4.8580],\n",
      "        [-2.0650, -0.6357, -6.3914, -3.0633,  0.6528],\n",
      "        [ 5.5851,  6.1121, 15.4570,  5.6036, -0.7169],\n",
      "        [-9.8312,  9.2475, 10.5895, -2.8987,  7.3402]]) \n",
      "\n"
     ]
    }
   ],
   "source": [
    "for i in [s,h3,h2,h1,c,a,b]:print(i.grad,\"\\n\")"
   ]
  },
  {
   "cell_type": "code",
   "execution_count": 66,
   "metadata": {},
   "outputs": [
    {
     "data": {
      "text/plain": [
       "(tensor([[-5.3214, -0.2512,  1.8437, -0.8867,  2.5466],\n",
       "         [-0.6021,  4.7449, 10.2477,  1.9859,  1.7672],\n",
       "         [-6.2730,  4.4697,  0.5618, -3.7994,  4.1503]], grad_fn=<MulBackward0>),\n",
       " tensor([[-5.3214, -0.2512,  1.8437, -0.8867,  2.5466],\n",
       "         [-0.6021,  4.7449, 10.2477,  1.9859,  1.7672],\n",
       "         [-6.2730,  4.4697,  0.5618, -3.7994,  4.1503]]))"
      ]
     },
     "execution_count": 66,
     "metadata": {},
     "output_type": "execute_result"
    }
   ],
   "source": [
    "2*h2 , h2.grad"
   ]
  },
  {
   "cell_type": "code",
   "execution_count": 65,
   "metadata": {},
   "outputs": [
    {
     "data": {
      "text/plain": [
       "(tensor([-12.1965,   8.9634,  12.6532,  -2.7003,   8.4641],\n",
       "        grad_fn=<MulBackward0>),\n",
       " tensor([-12.1965,   8.9634,  12.6532,  -2.7003,   8.4641]))"
      ]
     },
     "execution_count": 65,
     "metadata": {},
     "output_type": "execute_result"
    }
   ],
   "source": [
    "h2.sum(axis = 0) * 2, c.grad"
   ]
  },
  {
   "cell_type": "code",
   "execution_count": 68,
   "metadata": {},
   "outputs": [
    {
     "data": {
      "text/plain": [
       "tensor([[-1.0890,  0.1827, -0.1059,  0.4010,  0.6593],\n",
       "        [ 1.2707,  2.6807,  4.0961,  1.8373,  0.2696],\n",
       "        [-1.5648,  2.5431, -0.7469, -1.0554,  1.4612]], grad_fn=<MmBackward0>)"
      ]
     },
     "execution_count": 68,
     "metadata": {},
     "output_type": "execute_result"
    }
   ],
   "source": [
    "h1"
   ]
  },
  {
   "cell_type": "code",
   "execution_count": 71,
   "metadata": {},
   "outputs": [
    {
     "data": {
      "text/plain": [
       "tensor([[-0.5435, -0.1466, -0.7217,  0.4042],\n",
       "        [ 0.7370, -0.6255,  1.6622,  0.8982],\n",
       "        [ 1.1902,  0.5135, -0.4376,  1.1381]], requires_grad=True)"
      ]
     },
     "execution_count": 71,
     "metadata": {},
     "output_type": "execute_result"
    }
   ],
   "source": [
    "a"
   ]
  },
  {
   "cell_type": "code",
   "execution_count": 72,
   "metadata": {},
   "outputs": [
    {
     "data": {
      "text/plain": [
       "tensor([[ 0.1554,  0.9865, -0.0154, -0.3678, -0.1345],\n",
       "        [-0.5368, -0.7728, -2.3646, -1.8600,  0.3979],\n",
       "        [ 0.9882,  0.0382,  1.1183,  0.3380, -0.2494],\n",
       "        [-0.9153,  1.5662,  0.8568,  0.4266,  1.1491]], requires_grad=True)"
      ]
     },
     "execution_count": 72,
     "metadata": {},
     "output_type": "execute_result"
    }
   ],
   "source": [
    "b"
   ]
  },
  {
   "cell_type": "code",
   "execution_count": 75,
   "metadata": {},
   "outputs": [
    {
     "data": {
      "text/plain": [
       "tensor(-1.0890, grad_fn=<DotBackward0>)"
      ]
     },
     "execution_count": 75,
     "metadata": {},
     "output_type": "execute_result"
    }
   ],
   "source": [
    "a[0] @ b[:,0]"
   ]
  },
  {
   "cell_type": "code",
   "execution_count": null,
   "metadata": {},
   "outputs": [],
   "source": []
  }
 ],
 "metadata": {
  "kernelspec": {
   "display_name": "Python 3",
   "language": "python",
   "name": "python3"
  },
  "language_info": {
   "codemirror_mode": {
    "name": "ipython",
    "version": 3
   },
   "file_extension": ".py",
   "mimetype": "text/x-python",
   "name": "python",
   "nbconvert_exporter": "python",
   "pygments_lexer": "ipython3",
   "version": "3.9.6"
  },
  "orig_nbformat": 4
 },
 "nbformat": 4,
 "nbformat_minor": 2
}
