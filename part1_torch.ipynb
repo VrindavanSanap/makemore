{
 "cells": [
  {
   "cell_type": "code",
   "execution_count": 88,
   "metadata": {},
   "outputs": [],
   "source": [
    "import torch\n",
    "import matplotlib.pyplot as plt \n",
    "import torch.nn.functional as F\n",
    "import torch.nn as nn\n",
    "import torch.optim as optim\n",
    "import requests \n",
    "from tqdm import tqdm"
   ]
  },
  {
   "cell_type": "code",
   "execution_count": 89,
   "metadata": {},
   "outputs": [
    {
     "name": "stdout",
     "output_type": "stream",
     "text": [
      "32033 15 2\n"
     ]
    }
   ],
   "source": [
    "with open(\"./names.txt\") as f:\n",
    "    words = f.read().splitlines()\n",
    "    print(len(words), max(len(w) for w in words), min(len(w) for w in words))\n",
    "chars = sorted(list(set((''.join(words)))))  #get unique characters \n",
    "stoi = {s:i+1 for i, s in enumerate(chars)}  # map char to int\n",
    "stoi[\".\"] = 0 \n",
    "itos = {i:s for s,i in stoi.items()}         # map int to char\n",
    "vocab_size = len(itos)"
   ]
  },
  {
   "cell_type": "code",
   "execution_count": 148,
   "metadata": {},
   "outputs": [],
   "source": [
    "#create training set \n",
    "xs, ys = [], []\n",
    "n = 0\n",
    "for w in words:\n",
    "    chs = ['.'] + list(w) + ['.']\n",
    "    for ch1, ch2 in zip(chs, chs[1:]):\n",
    "        ix1 = stoi[ch1]\n",
    "        ix2 = stoi[ch2]\n",
    "        # print(ch1,ch2) be carful with prints and for loops long for loops are very hard to stop ,kernel become un alive \n",
    "        xs.append(ix1)\n",
    "        ys.append(ix2)\n",
    "\n",
    "xs = F.one_hot(torch.tensor(xs)).float()\n",
    "ys = torch.tensor(ys)"
   ]
  },
  {
   "cell_type": "code",
   "execution_count": 149,
   "metadata": {},
   "outputs": [],
   "source": [
    "class BigramModel(nn.Module):\n",
    "    def __init__(self):\n",
    "        super().__init__()\n",
    "        self.W = nn.Linear(vocab_size, vocab_size, bias=False)\n",
    "    \n",
    "    def forward(self, x):\n",
    "        \n",
    "        return self.W(x)"
   ]
  },
  {
   "cell_type": "code",
   "execution_count": 150,
   "metadata": {},
   "outputs": [],
   "source": [
    "model = BigramModel()"
   ]
  },
  {
   "cell_type": "code",
   "execution_count": 166,
   "metadata": {},
   "outputs": [],
   "source": [
    "optimizer = optim.SGD(model.parameters(), lr=1, momentum=0.9)"
   ]
  },
  {
   "cell_type": "code",
   "execution_count": 167,
   "metadata": {},
   "outputs": [
    {
     "name": "stdout",
     "output_type": "stream",
     "text": [
      "2.454458713531494\n",
      "2.454458713531494\n",
      "2.4544589519500732\n",
      "2.454458713531494\n",
      "2.4544589519500732\n",
      "2.4544589519500732\n",
      "2.454458713531494\n",
      "2.454458713531494\n",
      "2.454458713531494\n",
      "2.454458713531494\n",
      "2.454458713531494\n",
      "2.454458713531494\n",
      "2.454458475112915\n",
      "2.454458475112915\n",
      "2.454458475112915\n",
      "2.454458713531494\n",
      "2.454458475112915\n",
      "2.454458475112915\n",
      "2.454458475112915\n",
      "2.454458236694336\n",
      "2.454458236694336\n",
      "2.454458236694336\n",
      "2.454458236694336\n",
      "2.454458236694336\n",
      "2.454458236694336\n",
      "2.454458236694336\n",
      "2.454458236694336\n",
      "2.454458236694336\n",
      "2.454458236694336\n",
      "2.454458236694336\n",
      "2.454458236694336\n",
      "2.454457998275757\n",
      "2.454457998275757\n",
      "2.454457998275757\n",
      "2.454457998275757\n",
      "2.454457998275757\n",
      "2.454457998275757\n",
      "2.454457998275757\n",
      "2.454457998275757\n",
      "2.454457998275757\n",
      "2.454457998275757\n",
      "2.454457998275757\n",
      "2.454457998275757\n",
      "2.4544575214385986\n",
      "2.4544575214385986\n",
      "2.4544575214385986\n",
      "2.4544575214385986\n",
      "2.4544575214385986\n",
      "2.4544575214385986\n",
      "2.4544575214385986\n",
      "2.4544575214385986\n",
      "2.4544572830200195\n",
      "2.4544572830200195\n",
      "2.4544572830200195\n",
      "2.4544572830200195\n",
      "2.4544572830200195\n",
      "2.4544572830200195\n",
      "2.4544572830200195\n",
      "2.4544572830200195\n",
      "2.4544572830200195\n",
      "2.4544572830200195\n",
      "2.4544570446014404\n",
      "2.4544570446014404\n",
      "2.4544568061828613\n",
      "2.4544568061828613\n",
      "2.4544568061828613\n",
      "2.4544568061828613\n",
      "2.4544568061828613\n",
      "2.4544568061828613\n",
      "2.4544568061828613\n",
      "2.4544568061828613\n",
      "2.4544568061828613\n",
      "2.4544568061828613\n",
      "2.4544568061828613\n",
      "2.4544568061828613\n",
      "2.4544568061828613\n",
      "2.4544568061828613\n",
      "2.4544568061828613\n",
      "2.4544568061828613\n",
      "2.4544568061828613\n",
      "2.4544568061828613\n",
      "2.4544568061828613\n",
      "2.4544568061828613\n",
      "2.4544565677642822\n",
      "2.4544565677642822\n",
      "2.4544565677642822\n",
      "2.4544565677642822\n",
      "2.4544565677642822\n",
      "2.4544565677642822\n",
      "2.4544565677642822\n",
      "2.4544565677642822\n",
      "2.4544565677642822\n",
      "2.4544565677642822\n",
      "2.454456090927124\n",
      "2.454456329345703\n",
      "2.454456090927124\n",
      "2.454456090927124\n",
      "2.454456090927124\n",
      "2.454456090927124\n",
      "2.454456090927124\n"
     ]
    }
   ],
   "source": [
    "for i in range(100):    \n",
    "    logits = model(xs)\n",
    "    loss = F.cross_entropy(logits, ys)\n",
    "    print(loss.item())    \n",
    "    optimizer.zero_grad()\n",
    "    loss.backward()\n",
    "    optimizer.step()\n"
   ]
  },
  {
   "cell_type": "code",
   "execution_count": 176,
   "metadata": {},
   "outputs": [
    {
     "name": "stdout",
     "output_type": "stream",
     "text": [
      "syla.\n",
      "zi.\n",
      "joanculiee.\n",
      "avi.\n",
      "t.\n",
      "merat.\n",
      "rer.\n",
      "gelienlelonaruh.\n",
      "saben.\n",
      "kari.\n",
      "d.\n",
      "kan.\n",
      "aje.\n",
      "veva.\n",
      "ylami.\n",
      "reanah.\n",
      "mebeemy.\n",
      "delispen.\n",
      "jamur.\n",
      "jakyzawollider.\n"
     ]
    }
   ],
   "source": [
    "#Sample from the model\n",
    "for i in range(20):\n",
    "\n",
    "  ix = 0\n",
    "  out = []\n",
    "  \n",
    "  while True:\n",
    "    # p=P[ix]   \n",
    "    \n",
    "    logits = model(F.one_hot(torch.tensor([ix]),num_classes=27).float())\n",
    "    counts = logits.exp()\n",
    "    p = counts/counts.sum(1,keepdims=True)\n",
    "    ix = torch.multinomial(p,num_samples=1,replacement=True).item()\n",
    "    \n",
    "    out.append(itos[ix])\n",
    "    if ix == 0:\n",
    "      break\n",
    "  print(''.join(out))"
   ]
  },
  {
   "cell_type": "code",
   "execution_count": null,
   "metadata": {},
   "outputs": [],
   "source": [
    "# YAYYY"
   ]
  }
 ],
 "metadata": {
  "kernelspec": {
   "display_name": "Python 3",
   "language": "python",
   "name": "python3"
  },
  "language_info": {
   "codemirror_mode": {
    "name": "ipython",
    "version": 3
   },
   "file_extension": ".py",
   "mimetype": "text/x-python",
   "name": "python",
   "nbconvert_exporter": "python",
   "pygments_lexer": "ipython3",
   "version": "3.9.6"
  },
  "orig_nbformat": 4
 },
 "nbformat": 4,
 "nbformat_minor": 2
}
