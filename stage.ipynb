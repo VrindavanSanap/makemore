{
 "cells": [
  {
   "cell_type": "code",
   "execution_count": 1,
   "metadata": {},
   "outputs": [
    {
     "ename": "NameError",
     "evalue": "name 'torch' is not defined",
     "output_type": "error",
     "traceback": [
      "\u001b[1;31m---------------------------------------------------------------------------\u001b[0m",
      "\u001b[1;31mNameError\u001b[0m                                 Traceback (most recent call last)",
      "Cell \u001b[1;32mIn[1], line 2\u001b[0m\n\u001b[0;32m      1\u001b[0m a\u001b[39m=\u001b[39m[\u001b[39m0\u001b[39m,\u001b[39m2\u001b[39m,\u001b[39m1\u001b[39m]\n\u001b[1;32m----> 2\u001b[0m y\u001b[39m=\u001b[39mtorch\u001b[39m.\u001b[39mTensor(a)\n\u001b[0;32m      3\u001b[0m logprobs\u001b[39m=\u001b[39mtorch\u001b[39m.\u001b[39mtensor([[\u001b[39m1\u001b[39m,\u001b[39m2\u001b[39m,\u001b[39m3\u001b[39m],[\u001b[39m1\u001b[39m,\u001b[39m2\u001b[39m,\u001b[39m3\u001b[39m],[\u001b[39m1\u001b[39m,\u001b[39m2\u001b[39m,\u001b[39m3\u001b[39m]],dtype\u001b[39m=\u001b[39m\u001b[39mfloat\u001b[39m,requires_grad\u001b[39m=\u001b[39m\u001b[39mTrue\u001b[39;00m)\n\u001b[0;32m      4\u001b[0m step1\u001b[39m=\u001b[39mlogprobs[\u001b[39mrange\u001b[39m(\u001b[39m3\u001b[39m),a]\n",
      "\u001b[1;31mNameError\u001b[0m: name 'torch' is not defined"
     ]
    }
   ],
   "source": [
    "a=[0,2,1]\n",
    "y=torch.Tensor(a)\n",
    "logprobs=torch.tensor([[1,2,3],[1,2,3],[1,2,3]],dtype=float,requires_grad=True)\n",
    "step1=logprobs[range(3),a]\n",
    "step2=step1.sum()\n",
    "step3=step2/3\n",
    "step3.backward()\n",
    "print(logprobs.grad)\n",
    "clp=torch.zeros_like(logprobs)\n",
    "clp[range(3),a]=1/3\n",
    "print(clp)"
   ]
  },
  {
   "cell_type": "code",
   "execution_count": null,
   "metadata": {},
   "outputs": [],
   "source": [
    "a=torch.tensor([ [1,2,3],[2,2,3],[1,2,3]],dtype=float,requires_grad=True)\n",
    "b=torch.tensor([4,5,6],dtype=float,requires_grad=True)\n",
    "c=a*b\n",
    "c.retain_grad()\n",
    "d=c.sum()\n",
    "d.backward()"
   ]
  },
  {
   "cell_type": "code",
   "execution_count": 2,
   "metadata": {},
   "outputs": [
    {
     "ename": "NameError",
     "evalue": "name 'torch' is not defined",
     "output_type": "error",
     "traceback": [
      "\u001b[1;31m---------------------------------------------------------------------------\u001b[0m",
      "\u001b[1;31mNameError\u001b[0m                                 Traceback (most recent call last)",
      "Cell \u001b[1;32mIn[2], line 1\u001b[0m\n\u001b[1;32m----> 1\u001b[0m a\u001b[39m=\u001b[39mtorch\u001b[39m.\u001b[39mtensor([\u001b[39m1\u001b[39m,\u001b[39m3\u001b[39m,\u001b[39m4\u001b[39m])\n\u001b[0;32m      2\u001b[0m b\u001b[39m=\u001b[39ma\u001b[39m.\u001b[39msum()\n\u001b[0;32m      3\u001b[0m c\u001b[39m=\u001b[39ma\u001b[39m.\u001b[39msum(dim\u001b[39m=\u001b[39m\u001b[39m0\u001b[39m,keepdim\u001b[39m=\u001b[39m\u001b[39mTrue\u001b[39;00m)\n",
      "\u001b[1;31mNameError\u001b[0m: name 'torch' is not defined"
     ]
    }
   ],
   "source": [
    "a=torch.tensor([1,3,4])\n",
    "b=a.sum()\n",
    "c=a.sum(dim=0,keepdim=True)\n",
    "b,c"
   ]
  },
  {
   "cell_type": "code",
   "execution_count": 3,
   "metadata": {},
   "outputs": [
    {
     "ename": "NameError",
     "evalue": "name 'torch' is not defined",
     "output_type": "error",
     "traceback": [
      "\u001b[1;31m---------------------------------------------------------------------------\u001b[0m",
      "\u001b[1;31mNameError\u001b[0m                                 Traceback (most recent call last)",
      "Cell \u001b[1;32mIn[3], line 1\u001b[0m\n\u001b[1;32m----> 1\u001b[0m a\u001b[39m=\u001b[39mtorch\u001b[39m.\u001b[39mtensor([ [\u001b[39m1\u001b[39m,\u001b[39m2\u001b[39m,\u001b[39m3\u001b[39m]\n\u001b[0;32m      2\u001b[0m                 ,[\u001b[39m4\u001b[39m,\u001b[39m5\u001b[39m,\u001b[39m6\u001b[39m]\n\u001b[0;32m      3\u001b[0m                 ,[\u001b[39m7\u001b[39m,\u001b[39m8\u001b[39m,\u001b[39m9\u001b[39m]],dtype\u001b[39m=\u001b[39m\u001b[39mfloat\u001b[39m,requires_grad\u001b[39m=\u001b[39m\u001b[39mTrue\u001b[39;00m)\n\u001b[0;32m      4\u001b[0m c\u001b[39m=\u001b[39ma\u001b[39m.\u001b[39msum(\u001b[39m1\u001b[39m,keepdim\u001b[39m=\u001b[39m\u001b[39mTrue\u001b[39;00m)\n\u001b[0;32m      5\u001b[0m d\u001b[39m=\u001b[39mc\u001b[39m.\u001b[39msum()\n",
      "\u001b[1;31mNameError\u001b[0m: name 'torch' is not defined"
     ]
    }
   ],
   "source": [
    "a=torch.tensor([ [1,2,3]\n",
    "                ,[4,5,6]\n",
    "                ,[7,8,9]],dtype=float,requires_grad=True)\n",
    "c=a.sum(1,keepdim=True)\n",
    "d=c.sum()\n",
    "c.retain_grad()\n",
    "d.retain_grad()\n",
    "d.backward()"
   ]
  },
  {
   "cell_type": "code",
   "execution_count": null,
   "metadata": {},
   "outputs": [],
   "source": []
  }
 ],
 "metadata": {
  "kernelspec": {
   "display_name": "Python 3",
   "language": "python",
   "name": "python3"
  },
  "language_info": {
   "codemirror_mode": {
    "name": "ipython",
    "version": 3
   },
   "file_extension": ".py",
   "mimetype": "text/x-python",
   "name": "python",
   "nbconvert_exporter": "python",
   "pygments_lexer": "ipython3",
   "version": "3.11.1"
  },
  "orig_nbformat": 4,
  "vscode": {
   "interpreter": {
    "hash": "fbe58ca63fe33f9eeae9e71d10368d2b4a57f2b1b395836210cc60d362c66949"
   }
  }
 },
 "nbformat": 4,
 "nbformat_minor": 2
}
