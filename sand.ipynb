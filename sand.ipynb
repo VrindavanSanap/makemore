{
 "cells": [
  {
   "cell_type": "code",
   "execution_count": 25,
   "metadata": {},
   "outputs": [],
   "source": [
    "import torch\n",
    "import torch.functional as F\n",
    "import matplotlib.pyplot as plt"
   ]
  },
  {
   "cell_type": "code",
   "execution_count": 41,
   "metadata": {},
   "outputs": [
    {
     "data": {
      "text/plain": [
       "(tensor([5., 4., 3.]), tensor([1., 2., 3.]))"
      ]
     },
     "execution_count": 41,
     "metadata": {},
     "output_type": "execute_result"
    }
   ],
   "source": [
    "a = torch.tensor([1.0, 2, 3], requires_grad=True)\n",
    "b = torch.tensor([5.0, 4, 3], requires_grad=True)\n",
    "c = a @ b\n",
    "c.backward()\n",
    "a.grad, b.grad"
   ]
  },
  {
   "cell_type": "code",
   "execution_count": 44,
   "metadata": {},
   "outputs": [
    {
     "data": {
      "text/plain": [
       "(tensor([5., 4., 3.], requires_grad=True),\n",
       " tensor([1., 2., 3.], requires_grad=True))"
      ]
     },
     "execution_count": 44,
     "metadata": {},
     "output_type": "execute_result"
    }
   ],
   "source": [
    "a_grad = b\n",
    "b_grad = a\n",
    "a_grad, b_grad"
   ]
  },
  {
   "cell_type": "code",
   "execution_count": 47,
   "metadata": {},
   "outputs": [
    {
     "data": {
      "text/plain": [
       "tensor(12.0010, grad_fn=<DivBackward0>)"
      ]
     },
     "execution_count": 47,
     "metadata": {},
     "output_type": "execute_result"
    }
   ],
   "source": [
    "h = 0.001\n",
    "c1 = a@b\n",
    "c2 = (a + h) @ b\n",
    "(c2 - c1)/h"
   ]
  },
  {
   "cell_type": "code",
   "execution_count": 46,
   "metadata": {},
   "outputs": [
    {
     "data": {
      "text/plain": [
       "' \\nif a&b are vectors & a@b = c then \\ndc/da = b\\ndc/db = a\\n'"
      ]
     },
     "execution_count": 46,
     "metadata": {},
     "output_type": "execute_result"
    }
   ],
   "source": [
    "\"\"\" \n",
    "if a&b are vectors & a@b = c then \n",
    "dc/da = b\n",
    "dc/db = a\n",
    "\"\"\"\n"
   ]
  },
  {
   "cell_type": "code",
   "execution_count": 57,
   "metadata": {},
   "outputs": [
    {
     "data": {
      "text/plain": [
       "(tensor([[5., 4., 7.],\n",
       "         [5., 4., 7.]]),\n",
       " tensor([2., 7., 7.]))"
      ]
     },
     "execution_count": 57,
     "metadata": {},
     "output_type": "execute_result"
    }
   ],
   "source": [
    "a = torch.tensor([[1.0, 2, 3], [1.0, 5, 4]], requires_grad=True)\n",
    "b = torch.tensor([5.0, 4, 7], requires_grad=True)\n",
    "c = a @ b\n",
    "d = c.sum()\n",
    "d.backward()\n",
    "a.grad, b.grad"
   ]
  },
  {
   "cell_type": "code",
   "execution_count": 58,
   "metadata": {},
   "outputs": [
    {
     "data": {
      "text/plain": [
       "(tensor([[5., 4., 7.],\n",
       "         [5., 4., 7.]], grad_fn=<AddBackward0>),\n",
       " tensor([2., 7., 7.], grad_fn=<SumBackward1>))"
      ]
     },
     "execution_count": 58,
     "metadata": {},
     "output_type": "execute_result"
    }
   ],
   "source": [
    "a_grad = torch.zeros_like(a)\n",
    "a_grad = a_grad + b\n",
    "b_grad = a.sum(axis = 0)\n",
    "a_grad, b_grad"
   ]
  },
  {
   "cell_type": "code",
   "execution_count": 98,
   "metadata": {},
   "outputs": [
    {
     "data": {
      "text/plain": [
       "(tensor([[ 9., 11.,  7.],\n",
       "         [ 9., 11.,  7.]]),\n",
       " tensor([[2., 2.],\n",
       "         [7., 7.],\n",
       "         [7., 7.]]))"
      ]
     },
     "execution_count": 98,
     "metadata": {},
     "output_type": "execute_result"
    }
   ],
   "source": [
    "a = torch.tensor([[1.0, 2, 3], [1.0, 5, 4]], requires_grad=True)\n",
    "b = torch.tensor([[5.0, 4],[7.0, 4],[5.0, 2]], requires_grad=True)\n",
    "c = a @ b\n",
    "d = c.sum()\n",
    "d.backward()\n",
    "a.grad, b.grad"
   ]
  },
  {
   "cell_type": "code",
   "execution_count": 115,
   "metadata": {},
   "outputs": [
    {
     "data": {
      "text/plain": [
       "(tensor([[-0.4551, -1.1625,  4.1116,  1.8241],\n",
       "         [-0.4551, -1.1625,  4.1116,  1.8241],\n",
       "         [-0.4551, -1.1625,  4.1116,  1.8241]], grad_fn=<AddBackward0>),\n",
       " tensor([[-1.8002, -1.8002],\n",
       "         [-0.8647, -0.8647],\n",
       "         [-1.9716, -1.9716],\n",
       "         [-0.2986, -0.2986]], grad_fn=<AddBackward0>))"
      ]
     },
     "execution_count": 115,
     "metadata": {},
     "output_type": "execute_result"
    }
   ],
   "source": [
    "a_grad = torch.zeros_like(a)\n",
    "b_grad = torch.zeros_like(b)\n",
    "\n",
    "a_grad = a_grad + b.sum( axis =1 )\n",
    "b_grad = b_grad + a.sum( axis =0 ).reshape(4,1)\n",
    "a_grad, b_grad"
   ]
  },
  {
   "cell_type": "code",
   "execution_count": 112,
   "metadata": {},
   "outputs": [
    {
     "data": {
      "text/plain": [
       "tensor([[-1.8002],\n",
       "        [-0.8647],\n",
       "        [-1.9716],\n",
       "        [-0.2986]], grad_fn=<ReshapeAliasBackward0>)"
      ]
     },
     "execution_count": 112,
     "metadata": {},
     "output_type": "execute_result"
    }
   ],
   "source": [
    "a.sum( axis =0 ).reshape(4,1)"
   ]
  },
  {
   "cell_type": "code",
   "execution_count": 114,
   "metadata": {},
   "outputs": [
    {
     "data": {
      "text/plain": [
       "tensor([[-1.8002, -1.8002],\n",
       "        [-0.8647, -0.8647],\n",
       "        [-1.9716, -1.9716],\n",
       "        [-0.2986, -0.2986]])"
      ]
     },
     "execution_count": 114,
     "metadata": {},
     "output_type": "execute_result"
    }
   ],
   "source": [
    "b.grad"
   ]
  },
  {
   "cell_type": "code",
   "execution_count": 163,
   "metadata": {},
   "outputs": [
    {
     "name": "stdout",
     "output_type": "stream",
     "text": [
      "tensor([0.5000]) tensor([0.2000]) tensor([0.1000]) tensor([1.])\n"
     ]
    }
   ],
   "source": [
    "a = torch.tensor([2.0],requires_grad=True)\n",
    "b = torch.tensor([5.0],requires_grad=True)\n",
    "c = a* b\n",
    "d = torch.log(c)\n",
    "c.retain_grad(), d.retain_grad()\n",
    "d.backward()\n",
    "print(a.grad, b.grad, c.grad, d.grad)"
   ]
  },
  {
   "cell_type": "code",
   "execution_count": 166,
   "metadata": {},
   "outputs": [
    {
     "data": {
      "text/plain": [
       "tensor([0.5000], grad_fn=<MulBackward0>)"
      ]
     },
     "execution_count": 166,
     "metadata": {},
     "output_type": "execute_result"
    }
   ],
   "source": [
    "c.grad * b"
   ]
  },
  {
   "cell_type": "code",
   "execution_count": 160,
   "metadata": {},
   "outputs": [
    {
     "data": {
      "text/plain": [
       "(tensor([[-0.2174, -0.4052, -0.8308],\n",
       "         [-0.0012, -0.0012, -0.0012],\n",
       "         [-0.2930, -0.5837, -0.5904],\n",
       "         [ 0.5044,  0.0610,  0.9179],\n",
       "         [-0.4468, -0.3126, -0.2493],\n",
       "         [-0.6403, -1.0043, -0.2055],\n",
       "         [-0.2484, -0.2497, -0.2288]]),\n",
       " tensor([[ 0.2524],\n",
       "         [-2.0831],\n",
       "         [ 0.9801],\n",
       "         [ 0.5831],\n",
       "         [ 1.7227],\n",
       "         [ 0.8066],\n",
       "         [-1.2251]]),\n",
       " tensor([[0.2585, 0.4817, 0.9876],\n",
       "         [1.0000, 1.0000, 1.0000],\n",
       "         [0.4958, 0.9877, 0.9992],\n",
       "         [0.4060, 0.0491, 0.7389],\n",
       "         [0.9895, 0.6923, 0.5522],\n",
       "         [0.4725, 0.7412, 0.1517],\n",
       "         [0.9880, 0.9932, 0.9101]]))"
      ]
     },
     "execution_count": 160,
     "metadata": {},
     "output_type": "execute_result"
    }
   ],
   "source": [
    "counts = torch.randn(7, 3, requires_grad=True)\n",
    "counts_sum_inv = torch.randn(7, 1,requires_grad=True)\n",
    "probs = counts * counts_sum_inv\n",
    "probs.retain_grad()\n",
    "s = torch.tanh(probs).sum()\n",
    "s.backward()\n",
    "counts.grad, counts_sum_inv.grad, probs.grad"
   ]
  },
  {
   "cell_type": "code",
   "execution_count": 171,
   "metadata": {},
   "outputs": [
    {
     "data": {
      "text/plain": [
       "tensor([ 0.2524, -2.0831,  0.9801,  0.5831,  1.7227,  0.8066, -1.2251],\n",
       "       grad_fn=<SumBackward1>)"
      ]
     },
     "execution_count": 171,
     "metadata": {},
     "output_type": "execute_result"
    }
   ],
   "source": [
    "(counts * probs.grad).sum(axis=1)"
   ]
  },
  {
   "cell_type": "markdown",
   "metadata": {},
   "source": []
  },
  {
   "cell_type": "code",
   "execution_count": 172,
   "metadata": {},
   "outputs": [
    {
     "data": {
      "text/plain": [
       "tensor([[1.3971],\n",
       "        [0.9168],\n",
       "        [4.2222],\n",
       "        [0.7097],\n",
       "        [5.1829],\n",
       "        [3.6366],\n",
       "        [1.5528]], grad_fn=<AddBackward0>)"
      ]
     },
     "execution_count": 172,
     "metadata": {},
     "output_type": "execute_result"
    }
   ],
   "source": [
    "counts.sum(axis=1).reshape(7,1) + probs.grad.sum(axis=1).reshape(7,1)"
   ]
  },
  {
   "cell_type": "code",
   "execution_count": 174,
   "metadata": {},
   "outputs": [
    {
     "data": {
      "text/plain": [
       "(torch.Size([7, 3]), torch.Size([7, 3]))"
      ]
     },
     "execution_count": 174,
     "metadata": {},
     "output_type": "execute_result"
    }
   ],
   "source": [
    "counts.shape, probs.grad.shape"
   ]
  },
  {
   "cell_type": "code",
   "execution_count": 175,
   "metadata": {},
   "outputs": [],
   "source": [
    "a = torch.randn(4,3,requires_grad=True)\n",
    "b = torch.randn(4,3,requires_grad=True)\n",
    "c = a*b\n",
    "c.retain_grad()\n",
    "d = c.sum()"
   ]
  },
  {
   "cell_type": "code",
   "execution_count": 176,
   "metadata": {},
   "outputs": [],
   "source": [
    "d.backward()"
   ]
  },
  {
   "cell_type": "code",
   "execution_count": 216,
   "metadata": {},
   "outputs": [],
   "source": [
    "a = torch.tensor([3.0, 4.0, 5.0, 6.0], requires_grad=True)\n",
    "b = torch.tensor([3.0, 4.0, 5.0, 6.0], requires_grad=True)\n",
    "\n",
    "c.retain_grad()\n",
    "d = c.sum()\n",
    "d.backward()"
   ]
  },
  {
   "cell_type": "code",
   "execution_count": 217,
   "metadata": {},
   "outputs": [
    {
     "data": {
      "text/plain": [
       "tensor([ 20.0855,  54.5981, 148.4132, 403.4288])"
      ]
     },
     "execution_count": 217,
     "metadata": {},
     "output_type": "execute_result"
    }
   ],
   "source": [
    "a.grad"
   ]
  },
  {
   "cell_type": "code",
   "execution_count": 220,
   "metadata": {},
   "outputs": [
    {
     "data": {
      "text/plain": [
       "tensor([ 20.0855,  54.5981, 148.4132, 403.4288], grad_fn=<DivBackward0>)"
      ]
     },
     "execution_count": 220,
     "metadata": {},
     "output_type": "execute_result"
    }
   ],
   "source": [
    "(c * a)/a"
   ]
  },
  {
   "cell_type": "code",
   "execution_count": 218,
   "metadata": {},
   "outputs": [
    {
     "data": {
      "text/plain": [
       "tensor([1., 1., 1., 1.])"
      ]
     },
     "execution_count": 218,
     "metadata": {},
     "output_type": "execute_result"
    }
   ],
   "source": [
    "c.grad"
   ]
  },
  {
   "cell_type": "code",
   "execution_count": 189,
   "metadata": {},
   "outputs": [
    {
     "data": {
      "text/latex": [
       "$\\displaystyle - \\frac{1}{a^{2}}$"
      ],
      "text/plain": [
       "-1/a**2"
      ]
     },
     "execution_count": 189,
     "metadata": {},
     "output_type": "execute_result"
    }
   ],
   "source": [
    "from sympy import *\n",
    "a = symbols(\"a\")\n",
    "c = a**-1\n",
    "c.diff(a)"
   ]
  },
  {
   "cell_type": "code",
   "execution_count": 191,
   "metadata": {},
   "outputs": [
    {
     "data": {
      "text/plain": [
       "(tensor([1., 1., 1., 1.]), tensor([-0.1111, -0.0625, -0.0400, -0.0278]))"
      ]
     },
     "execution_count": 191,
     "metadata": {},
     "output_type": "execute_result"
    }
   ],
   "source": [
    "\n",
    "c.grad,a.grad"
   ]
  },
  {
   "cell_type": "code",
   "execution_count": 192,
   "metadata": {},
   "outputs": [
    {
     "data": {
      "text/plain": [
       "tensor([-0.1111, -0.0625, -0.0400, -0.0278], grad_fn=<MulBackward0>)"
      ]
     },
     "execution_count": 192,
     "metadata": {},
     "output_type": "execute_result"
    }
   ],
   "source": [
    "-1/(a**2)"
   ]
  },
  {
   "cell_type": "code",
   "execution_count": 211,
   "metadata": {},
   "outputs": [],
   "source": [
    "a = torch.randn(10,5, requires_grad=True)\n",
    "b = a.sum(axis=1)\n",
    "b.retain_grad()\n",
    "c = torch.square(b).sum()\n",
    "c.backward()"
   ]
  },
  {
   "cell_type": "code",
   "execution_count": 212,
   "metadata": {},
   "outputs": [
    {
     "data": {
      "text/plain": [
       "tensor([[ -3.6146,  -3.6146,  -3.6146,  -3.6146,  -3.6146],\n",
       "        [ -7.5984,  -7.5984,  -7.5984,  -7.5984,  -7.5984],\n",
       "        [ -2.9487,  -2.9487,  -2.9487,  -2.9487,  -2.9487],\n",
       "        [ -0.8913,  -0.8913,  -0.8913,  -0.8913,  -0.8913],\n",
       "        [ -4.4061,  -4.4061,  -4.4061,  -4.4061,  -4.4061],\n",
       "        [-10.9157, -10.9157, -10.9157, -10.9157, -10.9157],\n",
       "        [  0.6426,   0.6426,   0.6426,   0.6426,   0.6426],\n",
       "        [  3.3341,   3.3341,   3.3341,   3.3341,   3.3341],\n",
       "        [ -6.8356,  -6.8356,  -6.8356,  -6.8356,  -6.8356],\n",
       "        [  0.4898,   0.4898,   0.4898,   0.4898,   0.4898]])"
      ]
     },
     "execution_count": 212,
     "metadata": {},
     "output_type": "execute_result"
    }
   ],
   "source": [
    "a.grad"
   ]
  },
  {
   "cell_type": "code",
   "execution_count": 213,
   "metadata": {},
   "outputs": [
    {
     "data": {
      "text/plain": [
       "tensor([ -3.6146,  -7.5984,  -2.9487,  -0.8913,  -4.4061, -10.9157,   0.6426,\n",
       "          3.3341,  -6.8356,   0.4898])"
      ]
     },
     "execution_count": 213,
     "metadata": {},
     "output_type": "execute_result"
    }
   ],
   "source": [
    "b.grad"
   ]
  },
  {
   "cell_type": "code",
   "execution_count": 215,
   "metadata": {},
   "outputs": [
    {
     "data": {
      "text/plain": [
       "torch.Size([10, 5])"
      ]
     },
     "execution_count": 215,
     "metadata": {},
     "output_type": "execute_result"
    }
   ],
   "source": [
    "a.shape"
   ]
  },
  {
   "cell_type": "code",
   "execution_count": null,
   "metadata": {},
   "outputs": [],
   "source": [
    "a = torch.randn(10,5, requires_grad=True)\n",
    "b = a.sum(axis=1)"
   ]
  },
  {
   "cell_type": "code",
   "execution_count": 225,
   "metadata": {},
   "outputs": [
    {
     "data": {
      "text/plain": [
       "(tensor([[1., 0., 0., 0., 0.],\n",
       "         [1., 0., 0., 0., 0.],\n",
       "         [0., 0., 0., 1., 0.],\n",
       "         [1., 0., 0., 0., 0.]]),\n",
       " tensor([[1.],\n",
       "         [1.],\n",
       "         [1.],\n",
       "         [1.]]))"
      ]
     },
     "execution_count": 225,
     "metadata": {},
     "output_type": "execute_result"
    }
   ],
   "source": [
    "a = torch.randn(4,5,requires_grad=True)\n",
    "b = a.max(axis = 1,keepdim=True).values\n",
    "b.retain_grad()\n",
    "c = b.sum()\n",
    "c.backward()\n",
    "a.grad, b.grad"
   ]
  },
  {
   "cell_type": "code",
   "execution_count": 235,
   "metadata": {},
   "outputs": [
    {
     "name": "stdout",
     "output_type": "stream",
     "text": [
      "tensor([[0., 0., 0., 0., 0.],\n",
      "        [0., 0., 0., 0., 0.],\n",
      "        [0., 0., 0., 0., 0.],\n",
      "        [0., 0., 0., 0., 0.]])\n"
     ]
    },
    {
     "data": {
      "text/plain": [
       "tensor([0, 0, 3, 0])"
      ]
     },
     "execution_count": 235,
     "metadata": {},
     "output_type": "execute_result"
    }
   ],
   "source": [
    "a_grad = torch.zeros_like(a)\n",
    "print(a_grad)\n",
    "a.max(dim =1).indices"
   ]
  },
  {
   "cell_type": "code",
   "execution_count": 238,
   "metadata": {},
   "outputs": [],
   "source": [
    "a_grad[range(4),a.max(dim =1).indices ] = 4"
   ]
  },
  {
   "cell_type": "code",
   "execution_count": 239,
   "metadata": {},
   "outputs": [
    {
     "data": {
      "text/plain": [
       "tensor([[4., 0., 0., 0., 0.],\n",
       "        [4., 0., 0., 0., 0.],\n",
       "        [0., 0., 0., 4., 0.],\n",
       "        [4., 0., 0., 0., 0.]])"
      ]
     },
     "execution_count": 239,
     "metadata": {},
     "output_type": "execute_result"
    }
   ],
   "source": [
    "a_grad"
   ]
  },
  {
   "cell_type": "markdown",
   "metadata": {},
   "source": []
  },
  {
   "cell_type": "code",
   "execution_count": 291,
   "metadata": {},
   "outputs": [],
   "source": [
    "h = torch.randn(4, 8, requires_grad=True)\n",
    "W2 = torch.randn(8, 3, requires_grad=True)\n",
    "b2 = torch.randn(3, requires_grad=True)"
   ]
  },
  {
   "cell_type": "code",
   "execution_count": 292,
   "metadata": {},
   "outputs": [],
   "source": [
    "logits = h @ W2 + b2 # output layer\n",
    "logits.retain_grad()\n",
    "x = logits.square()\n",
    "y = x.sum()\n",
    "y.backward()"
   ]
  },
  {
   "cell_type": "code",
   "execution_count": 305,
   "metadata": {},
   "outputs": [
    {
     "data": {
      "text/plain": [
       "torch.Size([4, 3])"
      ]
     },
     "execution_count": 305,
     "metadata": {},
     "output_type": "execute_result"
    }
   ],
   "source": [
    "logits.grad.shape"
   ]
  },
  {
   "cell_type": "code",
   "execution_count": 307,
   "metadata": {},
   "outputs": [],
   "source": [
    "dh = torch.zeros_like(h)"
   ]
  },
  {
   "cell_type": "code",
   "execution_count": 314,
   "metadata": {},
   "outputs": [],
   "source": [
    "dh += W2.sum(axis = 1)"
   ]
  },
  {
   "cell_type": "code",
   "execution_count": 316,
   "metadata": {},
   "outputs": [
    {
     "data": {
      "text/plain": [
       "tensor([[  2.0517,  -0.5638,  -0.2785, -17.1280,   0.0617,   9.4932,  -2.5261,\n",
       "          -0.4681],\n",
       "        [ -0.5647,  10.6514,  15.2778, -12.9380,  -9.1384,  11.4859,  -6.3783,\n",
       "         -14.5812],\n",
       "        [  1.7212,  -3.3679,  -0.4587,  -6.5844,  -2.1773,   1.9717,  -1.8803,\n",
       "          -0.4377],\n",
       "        [  0.3498, -17.9332, -28.2925,  25.3042,  18.3964, -21.0611,  12.6310,\n",
       "          27.4126]])"
      ]
     },
     "execution_count": 316,
     "metadata": {},
     "output_type": "execute_result"
    }
   ],
   "source": [
    "h.grad"
   ]
  },
  {
   "cell_type": "code",
   "execution_count": 321,
   "metadata": {},
   "outputs": [
    {
     "data": {
      "text/plain": [
       "torch.Size([4])"
      ]
     },
     "execution_count": 321,
     "metadata": {},
     "output_type": "execute_result"
    }
   ],
   "source": [
    "logits.sum(axis = 1).shape"
   ]
  },
  {
   "cell_type": "code",
   "execution_count": 320,
   "metadata": {},
   "outputs": [
    {
     "data": {
      "text/plain": [
       "torch.Size([4, 8])"
      ]
     },
     "execution_count": 320,
     "metadata": {},
     "output_type": "execute_result"
    }
   ],
   "source": [
    "dh.shape"
   ]
  },
  {
   "cell_type": "code",
   "execution_count": 323,
   "metadata": {},
   "outputs": [],
   "source": [
    "dh += logits.sum(axis = 1).reshape(-1,1)"
   ]
  },
  {
   "cell_type": "code",
   "execution_count": 325,
   "metadata": {},
   "outputs": [
    {
     "data": {
      "text/plain": [
       "tensor([[  2.0517,  -0.5638,  -0.2785, -17.1280,   0.0617,   9.4932,  -2.5261,\n",
       "          -0.4681],\n",
       "        [ -0.5647,  10.6514,  15.2778, -12.9380,  -9.1384,  11.4859,  -6.3783,\n",
       "         -14.5812],\n",
       "        [  1.7212,  -3.3679,  -0.4587,  -6.5844,  -2.1773,   1.9717,  -1.8803,\n",
       "          -0.4377],\n",
       "        [  0.3498, -17.9332, -28.2925,  25.3042,  18.3964, -21.0611,  12.6310,\n",
       "          27.4126]])"
      ]
     },
     "execution_count": 325,
     "metadata": {},
     "output_type": "execute_result"
    }
   ],
   "source": [
    "h.grad"
   ]
  },
  {
   "cell_type": "code",
   "execution_count": 324,
   "metadata": {},
   "outputs": [
    {
     "data": {
      "text/plain": [
       "tensor([[ -1.4525,   1.8144,   2.9197,  -0.1245,  -3.1377,  -0.2453,  -1.8573,\n",
       "          -4.3149],\n",
       "        [  4.7695,   8.0364,   9.1417,   6.0975,   3.0843,   5.9767,   4.3647,\n",
       "           1.9072],\n",
       "        [ -1.0899,   2.1770,   3.2824,   0.2381,  -2.7751,   0.1174,  -1.4947,\n",
       "          -3.9522],\n",
       "        [-10.4359,  -7.1690,  -6.0637,  -9.1079, -12.1212,  -9.2287, -10.8407,\n",
       "         -13.2983]], grad_fn=<AddBackward0>)"
      ]
     },
     "execution_count": 324,
     "metadata": {},
     "output_type": "execute_result"
    }
   ],
   "source": [
    "dh"
   ]
  },
  {
   "cell_type": "code",
   "execution_count": null,
   "metadata": {},
   "outputs": [],
   "source": []
  }
 ],
 "metadata": {
  "kernelspec": {
   "display_name": "Python 3",
   "language": "python",
   "name": "python3"
  },
  "language_info": {
   "codemirror_mode": {
    "name": "ipython",
    "version": 3
   },
   "file_extension": ".py",
   "mimetype": "text/x-python",
   "name": "python",
   "nbconvert_exporter": "python",
   "pygments_lexer": "ipython3",
   "version": "3.9.6"
  },
  "orig_nbformat": 4
 },
 "nbformat": 4,
 "nbformat_minor": 2
}
