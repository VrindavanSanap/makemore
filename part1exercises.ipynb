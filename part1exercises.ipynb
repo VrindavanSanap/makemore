{
 "cells": [
  {
   "cell_type": "code",
   "execution_count": 1,
   "metadata": {},
   "outputs": [],
   "source": [
    "########################\n",
    "#\n",
    "# Excersises\n",
    "#\n",
    "########################"
   ]
  },
  {
   "cell_type": "markdown",
   "metadata": {},
   "source": [
    "\n",
    "### E01: train a trigram language model, i.e. take two characters as an input to predict the 3rd one. Feel free to use either counting or a neural net. Evaluate the loss; Did it improve over a bigram model?\n"
   ]
  },
  {
   "cell_type": "code",
   "execution_count": 2,
   "metadata": {},
   "outputs": [],
   "source": [
    "import torch\n",
    "import matplotlib.pyplot as plt \n",
    "import torch.nn.functional as F\n",
    "\n",
    "import requests "
   ]
  },
  {
   "cell_type": "code",
   "execution_count": 13,
   "metadata": {},
   "outputs": [
    {
     "name": "stdout",
     "output_type": "stream",
     "text": [
      "32033 15 2\n"
     ]
    }
   ],
   "source": [
    "url = \"https://raw.githubusercontent.com/karpathy/makemore/master/names.txt\"\n",
    "# url = \"https://raw.githubusercontent.com/dwyl/english-words/master/words_alpha.txt\" #English dictionary\n",
    "\n",
    "res = requests.get(url)\n",
    "words = (res.text).splitlines()\n",
    "print(len(words), max(len(w) for w in words), min(len(w) for w in words))"
   ]
  },
  {
   "cell_type": "code",
   "execution_count": 14,
   "metadata": {},
   "outputs": [],
   "source": [
    "chars = sorted(list(set((''.join(words)))))  #get unique characters \n",
    "stoi = {s:i+1 for i, s in enumerate(chars)}  # map char to int\n",
    "stoi[\".\"] = 0 \n",
    "itos = {i:s for s,i in stoi.items()}         # map int to char"
   ]
  },
  {
   "cell_type": "code",
   "execution_count": 15,
   "metadata": {},
   "outputs": [],
   "source": [
    "# calculate trigram frequencies in Matrix Form \n",
    "N = torch.zeros( 27, 27, 27, dtype=int)\n",
    "b = {}\n",
    "for w in  words:\n",
    "    chs =  ['.']  + ['.']  +  list(w) + ['.'] \n",
    "    \n",
    "    for ch1,ch2,ch3 in zip(chs, chs[1:], chs[2:]):\n",
    "        \n",
    "        ix1 = stoi[ch1]\n",
    "        ix2 = stoi[ch2]\n",
    "        ix3 = stoi[ch3]\n",
    "        N[ix1][ix2][ix3] += 1\n",
    "    "
   ]
  },
  {
   "cell_type": "code",
   "execution_count": 16,
   "metadata": {},
   "outputs": [
    {
     "name": "stdout",
     "output_type": "stream",
     "text": [
      "torch.Size([27, 27, 27])\n"
     ]
    }
   ],
   "source": [
    "# Convert trigram frequency matrix to probability matrix\n",
    "P=(N+ 0.0001).float()# adding 1 to prevent probability from being 0 giving infinite loss\n",
    "P=P/P.sum(1, keepdim=True)\n",
    "print(P.shape)"
   ]
  },
  {
   "cell_type": "code",
   "execution_count": 19,
   "metadata": {},
   "outputs": [
    {
     "name": "stdout",
     "output_type": "stream",
     "text": [
      "gh.\n",
      "q.\n",
      "olsojc.\n",
      "zeejujionzlorjohaqush.\n",
      "alfianxiacketzahkikippesiquarorjwafwkiyanchuxxwgxxwfxpkqqptobynotnielmadrumpbjqccowuxxachitthvisphj.\n",
      "daggelquigh.\n",
      "effppikse.\n",
      "f.\n",
      "fizwaptowuwojcilynifushapmfoxxweckhleddhvienknquth.\n",
      "chuxtomizwimbowmwithebbqqhquiscodfowymphova.\n",
      "couzumy.\n",
      "gwjwakueordn.\n",
      "swaquezmuzz.\n",
      "el.\n",
      "empbffiydyxxtikesoffeckzqjvoffredwoojupicjxgpjj.\n",
      "mipphossequo.\n",
      "gredwiggyphobbighahjatejabbigbxfgkqqftpdjuebekekwu.\n",
      "y.\n",
      "shugbjown.\n",
      "duckwuaqwrwbwqxwjw.\n"
     ]
    }
   ],
   "source": [
    "# sampling dumb lang  model basesd on probability matrix \n",
    "g=torch.Generator().manual_seed(55)\n",
    "for i in range(20):\n",
    "\n",
    "  ix1 = 0\n",
    "  ix2 = 0 \n",
    "  out = []\n",
    "  while True:\n",
    "    p = P[ix1][ix2] \n",
    "    \n",
    "    # print(ix1,ix2)\n",
    "    ix1=ix2\n",
    "    ix2 = torch.multinomial(p,num_samples=1,replacement=True, generator=g).item()\n",
    "    \n",
    "    out.append(itos[ix2])\n",
    "    \n",
    "    if ix2 == 0:\n",
    "      break\n",
    "  print(''.join(out))"
   ]
  },
  {
   "cell_type": "code",
   "execution_count": 20,
   "metadata": {},
   "outputs": [
    {
     "name": "stdout",
     "output_type": "stream",
     "text": [
      "log -416811.03125\n",
      "nll 416811.03125\n",
      "LOSS nll/n 1.826948642730713\n"
     ]
    }
   ],
   "source": [
    "# loss calculation for model based on probability materix \n",
    "logLikelihood = 0.0\n",
    "nll = 0\n",
    "n = 0\n",
    "for w in  words:\n",
    "    chs = ['.'] + ['.'] + list(w) + ['.']\n",
    "    for ch1,ch2,ch3 in zip(chs, chs[1:], chs[2:]):\n",
    "        ix1 = stoi[ch1]\n",
    "        ix2 = stoi[ch2]\n",
    "        ix3 = stoi[ch3]\n",
    "        prob = P[ix1][ix2][ix3]\n",
    "        logprob = torch.log(prob) #multiplication of probabilites same as addition of negative log probabilites\n",
    "        logLikelihood += logprob\n",
    "        n += 1  \n",
    "    nll = -logLikelihood\n",
    "      \n",
    "print(f\"log {logLikelihood}\")\n",
    "print(f\"nll {nll}\")\n",
    "print(f\"LOSS nll/n {nll/n}\")"
   ]
  },
  {
   "cell_type": "code",
   "execution_count": 21,
   "metadata": {},
   "outputs": [],
   "source": [
    "#This model has lower loss compaerd to the bigram probability matrix model"
   ]
  },
  {
   "cell_type": "code",
   "execution_count": 22,
   "metadata": {},
   "outputs": [],
   "source": [
    "#Now neural net work approach"
   ]
  },
  {
   "cell_type": "code",
   "execution_count": 23,
   "metadata": {},
   "outputs": [],
   "source": [
    "#create training set \n",
    "xs, ys = [], []\n",
    "n = 0\n",
    "for w in words:\n",
    "    chs = ['.'] + ['.'] + list(w) + ['.']\n",
    "    for ch1, ch2, ch3 in zip(chs, chs[1:], chs[2:]):\n",
    "        ix1 = stoi[ch1]\n",
    "        ix2 = stoi[ch2]\n",
    "        ix3 = stoi[ch3]\n",
    "        # print(ch1,ch2) be carful with prints and for loops long for loops are very hard to stop ,kernel become un alive \n",
    "        xs.append([ix1, ix2])\n",
    "        ys.append(ix3)\n",
    "\n",
    "xs = torch.tensor(xs)\n",
    "ys = torch.tensor(ys)"
   ]
  },
  {
   "cell_type": "code",
   "execution_count": 24,
   "metadata": {},
   "outputs": [],
   "source": [
    "W = torch.randn((54,27),requires_grad=True).float()"
   ]
  },
  {
   "cell_type": "code",
   "execution_count": 25,
   "metadata": {},
   "outputs": [
    {
     "name": "stdout",
     "output_type": "stream",
     "text": [
      "0 tensor(4.2528, grad_fn=<AddBackward0>)\n",
      "1 tensor(3.5796, grad_fn=<AddBackward0>)\n",
      "2 tensor(3.3626, grad_fn=<AddBackward0>)\n",
      "3 tensor(2.9805, grad_fn=<AddBackward0>)\n",
      "4 tensor(2.8683, grad_fn=<AddBackward0>)\n",
      "5 tensor(2.8345, grad_fn=<AddBackward0>)\n",
      "6 tensor(2.7478, grad_fn=<AddBackward0>)\n",
      "7 tensor(2.7505, grad_fn=<AddBackward0>)\n",
      "8 tensor(2.6719, grad_fn=<AddBackward0>)\n",
      "9 tensor(2.6766, grad_fn=<AddBackward0>)\n",
      "10 tensor(2.6291, grad_fn=<AddBackward0>)\n",
      "11 tensor(2.6520, grad_fn=<AddBackward0>)\n",
      "12 tensor(2.5913, grad_fn=<AddBackward0>)\n",
      "13 tensor(2.6081, grad_fn=<AddBackward0>)\n",
      "14 tensor(2.5697, grad_fn=<AddBackward0>)\n",
      "15 tensor(2.6001, grad_fn=<AddBackward0>)\n",
      "16 tensor(2.5455, grad_fn=<AddBackward0>)\n",
      "17 tensor(2.5674, grad_fn=<AddBackward0>)\n",
      "18 tensor(2.5328, grad_fn=<AddBackward0>)\n",
      "19 tensor(2.5669, grad_fn=<AddBackward0>)\n",
      "20 tensor(2.5151, grad_fn=<AddBackward0>)\n",
      "21 tensor(2.5398, grad_fn=<AddBackward0>)\n",
      "22 tensor(2.5074, grad_fn=<AddBackward0>)\n",
      "23 tensor(2.5437, grad_fn=<AddBackward0>)\n",
      "24 tensor(2.4932, grad_fn=<AddBackward0>)\n",
      "25 tensor(2.5195, grad_fn=<AddBackward0>)\n",
      "26 tensor(2.4886, grad_fn=<AddBackward0>)\n",
      "27 tensor(2.5265, grad_fn=<AddBackward0>)\n",
      "28 tensor(2.4766, grad_fn=<AddBackward0>)\n",
      "29 tensor(2.5037, grad_fn=<AddBackward0>)\n",
      "30 tensor(2.4741, grad_fn=<AddBackward0>)\n",
      "31 tensor(2.5133, grad_fn=<AddBackward0>)\n",
      "32 tensor(2.4635, grad_fn=<AddBackward0>)\n",
      "33 tensor(2.4912, grad_fn=<AddBackward0>)\n",
      "34 tensor(2.4626, grad_fn=<AddBackward0>)\n",
      "35 tensor(2.5029, grad_fn=<AddBackward0>)\n",
      "36 tensor(2.4529, grad_fn=<AddBackward0>)\n",
      "37 tensor(2.4808, grad_fn=<AddBackward0>)\n",
      "38 tensor(2.4533, grad_fn=<AddBackward0>)\n",
      "39 tensor(2.4946, grad_fn=<AddBackward0>)\n",
      "40 tensor(2.4442, grad_fn=<AddBackward0>)\n",
      "41 tensor(2.4721, grad_fn=<AddBackward0>)\n",
      "42 tensor(2.4457, grad_fn=<AddBackward0>)\n",
      "43 tensor(2.4879, grad_fn=<AddBackward0>)\n",
      "44 tensor(2.4369, grad_fn=<AddBackward0>)\n",
      "45 tensor(2.4647, grad_fn=<AddBackward0>)\n",
      "46 tensor(2.4394, grad_fn=<AddBackward0>)\n",
      "47 tensor(2.4825, grad_fn=<AddBackward0>)\n",
      "48 tensor(2.4307, grad_fn=<AddBackward0>)\n",
      "49 tensor(2.4583, grad_fn=<AddBackward0>)\n",
      "50 tensor(2.4341, grad_fn=<AddBackward0>)\n",
      "51 tensor(2.4781, grad_fn=<AddBackward0>)\n",
      "52 tensor(2.4253, grad_fn=<AddBackward0>)\n",
      "53 tensor(2.4526, grad_fn=<AddBackward0>)\n",
      "54 tensor(2.4296, grad_fn=<AddBackward0>)\n",
      "55 tensor(2.4744, grad_fn=<AddBackward0>)\n",
      "56 tensor(2.4207, grad_fn=<AddBackward0>)\n",
      "57 tensor(2.4476, grad_fn=<AddBackward0>)\n",
      "58 tensor(2.4258, grad_fn=<AddBackward0>)\n",
      "59 tensor(2.4714, grad_fn=<AddBackward0>)\n",
      "60 tensor(2.4167, grad_fn=<AddBackward0>)\n",
      "61 tensor(2.4431, grad_fn=<AddBackward0>)\n",
      "62 tensor(2.4225, grad_fn=<AddBackward0>)\n",
      "63 tensor(2.4689, grad_fn=<AddBackward0>)\n",
      "64 tensor(2.4132, grad_fn=<AddBackward0>)\n",
      "65 tensor(2.4391, grad_fn=<AddBackward0>)\n",
      "66 tensor(2.4196, grad_fn=<AddBackward0>)\n",
      "67 tensor(2.4667, grad_fn=<AddBackward0>)\n",
      "68 tensor(2.4100, grad_fn=<AddBackward0>)\n",
      "69 tensor(2.4355, grad_fn=<AddBackward0>)\n",
      "70 tensor(2.4170, grad_fn=<AddBackward0>)\n",
      "71 tensor(2.4649, grad_fn=<AddBackward0>)\n",
      "72 tensor(2.4073, grad_fn=<AddBackward0>)\n",
      "73 tensor(2.4323, grad_fn=<AddBackward0>)\n",
      "74 tensor(2.4148, grad_fn=<AddBackward0>)\n",
      "75 tensor(2.4632, grad_fn=<AddBackward0>)\n",
      "76 tensor(2.4048, grad_fn=<AddBackward0>)\n",
      "77 tensor(2.4294, grad_fn=<AddBackward0>)\n",
      "78 tensor(2.4128, grad_fn=<AddBackward0>)\n",
      "79 tensor(2.4617, grad_fn=<AddBackward0>)\n",
      "80 tensor(2.4026, grad_fn=<AddBackward0>)\n",
      "81 tensor(2.4269, grad_fn=<AddBackward0>)\n",
      "82 tensor(2.4110, grad_fn=<AddBackward0>)\n",
      "83 tensor(2.4603, grad_fn=<AddBackward0>)\n",
      "84 tensor(2.4007, grad_fn=<AddBackward0>)\n",
      "85 tensor(2.4247, grad_fn=<AddBackward0>)\n",
      "86 tensor(2.4093, grad_fn=<AddBackward0>)\n",
      "87 tensor(2.4590, grad_fn=<AddBackward0>)\n",
      "88 tensor(2.3989, grad_fn=<AddBackward0>)\n",
      "89 tensor(2.4227, grad_fn=<AddBackward0>)\n",
      "90 tensor(2.4078, grad_fn=<AddBackward0>)\n",
      "91 tensor(2.4578, grad_fn=<AddBackward0>)\n",
      "92 tensor(2.3974, grad_fn=<AddBackward0>)\n",
      "93 tensor(2.4210, grad_fn=<AddBackward0>)\n",
      "94 tensor(2.4065, grad_fn=<AddBackward0>)\n",
      "95 tensor(2.4567, grad_fn=<AddBackward0>)\n",
      "96 tensor(2.3960, grad_fn=<AddBackward0>)\n",
      "97 tensor(2.4194, grad_fn=<AddBackward0>)\n",
      "98 tensor(2.4052, grad_fn=<AddBackward0>)\n",
      "99 tensor(2.4556, grad_fn=<AddBackward0>)\n"
     ]
    },
    {
     "data": {
      "text/plain": [
       "[<matplotlib.lines.Line2D at 0x149dc94e0>]"
      ]
     },
     "execution_count": 25,
     "metadata": {},
     "output_type": "execute_result"
    },
    {
     "data": {
      "image/png": "[encoded data removed]",
      "text/plain": [
       "<Figure size 640x480 with 1 Axes>"
      ]
     },
     "metadata": {},
     "output_type": "display_data"
    }
   ],
   "source": [
    "lossi= []\n",
    "\n",
    "xenc=F.one_hot(xs,num_classes=27).float()\n",
    "for k in range(100):\n",
    "    # forward pass\n",
    "    num=xs.shape[0]\n",
    "    logits= xenc.view(-1,54)@W\n",
    "    counts = logits.exp()\n",
    "     \n",
    "    probs = counts/counts.sum(1,keepdims=True)\n",
    "    # loss calculation\n",
    "    loss = -probs[torch.arange(num),ys].log().mean() +0.01*(W**2).mean() #regularization ie smoothing the weights\n",
    "    \n",
    "    # loss=F.cross_entropy(probs,ys) \n",
    "    W.grad=None \n",
    "    loss.backward()\n",
    "    print(k,loss)\n",
    "    lossi.append(loss.data)\n",
    "    # update\n",
    "    W.data += -50 * W.grad\n",
    "plt.plot(lossi)"
   ]
  },
  {
   "cell_type": "code",
   "execution_count": 140,
   "metadata": {},
   "outputs": [],
   "source": [
    "#achieved lower loss than model that took in single previous charecter in 100 steps"
   ]
  }
 ],
 "metadata": {
  "kernelspec": {
   "display_name": "Python 3",
   "language": "python",
   "name": "python3"
  },
  "language_info": {
   "codemirror_mode": {
    "name": "ipython",
    "version": 3
   },
   "file_extension": ".py",
   "mimetype": "text/x-python",
   "name": "python",
   "nbconvert_exporter": "python",
   "pygments_lexer": "ipython3",
   "version": "3.10.9"
  },
  "orig_nbformat": 4,
  "vscode": {
   "interpreter": {
    "hash": "31f2aee4e71d21fbe5cf8b01ff0e069b9275f58929596ceb00d14d90e3e16cd6"
   }
  }
 },
 "nbformat": 4,
 "nbformat_minor": 2
}
