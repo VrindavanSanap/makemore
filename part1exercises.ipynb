{
 "cells": [
  {
   "cell_type": "code",
   "execution_count": 1,
   "metadata": {},
   "outputs": [],
   "source": [
    "########################\n",
    "#\n",
    "# Excersises\n",
    "#\n",
    "########################"
   ]
  },
  {
   "cell_type": "markdown",
   "metadata": {},
   "source": [
    "\n",
    "### E01: train a trigram language model, i.e. take two characters as an input to predict the 3rd one. Feel free to use either counting or a neural net. Evaluate the loss; Did it improve over a bigram model?\n"
   ]
  },
  {
   "cell_type": "code",
   "execution_count": 1,
   "metadata": {},
   "outputs": [],
   "source": [
    "import torch\n",
    "import matplotlib.pyplot as plt \n",
    "import torch.nn.functional as F\n",
    "\n",
    "import requests "
   ]
  },
  {
   "cell_type": "code",
   "execution_count": 2,
   "metadata": {},
   "outputs": [
    {
     "name": "stdout",
     "output_type": "stream",
     "text": [
      "370105 31 1\n"
     ]
    }
   ],
   "source": [
    "# url = \"https://raw.githubusercontent.com/karpathy/makemore/master/names.txt\"\n",
    "url = \"https://raw.githubusercontent.com/dwyl/english-words/master/words_alpha.txt\" #English dictionary\n",
    "\n",
    "res = requests.get(url)\n",
    "words = (res.text).splitlines()\n",
    "print(len(words), max(len(w) for w in words), min(len(w) for w in words))"
   ]
  },
  {
   "cell_type": "code",
   "execution_count": 3,
   "metadata": {},
   "outputs": [],
   "source": [
    "chars = sorted(list(set((''.join(words)))))  #get unique characters \n",
    "stoi = {s:i+1 for i, s in enumerate(chars)}  # map char to int\n",
    "stoi[\".\"] = 0 \n",
    "itos = {i:s for s,i in stoi.items()}         # map int to char"
   ]
  },
  {
   "cell_type": "code",
   "execution_count": 4,
   "metadata": {},
   "outputs": [],
   "source": [
    "# calculate trigram frequencies in Matrix Form \n",
    "N = torch.zeros( 27, 27, 27, dtype=int)\n",
    "b = {}\n",
    "for w in  words:\n",
    "    chs =  ['.']  + ['.']  +  list(w) + ['.'] \n",
    "    \n",
    "    for ch1,ch2,ch3 in zip(chs, chs[1:], chs[2:]):\n",
    "        \n",
    "        ix1 = stoi[ch1]\n",
    "        ix2 = stoi[ch2]\n",
    "        ix3 = stoi[ch3]\n",
    "        N[ix1][ix2][ix3] += 1\n",
    "    "
   ]
  },
  {
   "cell_type": "code",
   "execution_count": 5,
   "metadata": {},
   "outputs": [
    {
     "name": "stdout",
     "output_type": "stream",
     "text": [
      "torch.Size([27, 27, 27])\n"
     ]
    }
   ],
   "source": [
    "# Convert trigram frequency matrix to probability matrix\n",
    "P=(N+ 0.0001).float()# adding 1 to prevent probability from being 0 giving infinite loss\n",
    "P=P/P.sum(1, keepdim=True)\n",
    "print(P.shape)"
   ]
  },
  {
   "cell_type": "code",
   "execution_count": 15,
   "metadata": {},
   "outputs": [
    {
     "name": "stdout",
     "output_type": "stream",
     "text": [
      "turvauxiddisjurbbablemodrommellenchippyx.\n",
      "anquygmaywatiquerwomaspoxy.\n",
      "verhyclouzzly.\n",
      "dimeggezzly.\n",
      "pabbimivexpospronwownighbury.\n",
      "lifijo.\n",
      "squbthbudiumalobrasictuatfujujy.\n",
      "whequumuckbigrxyquus.\n",
      "sly.\n",
      "canzygrushikilvehylvexuaquayofshryhobwiverexpjexququarmizzlyhayscischliabrackqqkwquetedbakmquyizzaqurogypemulflubraffoxy.\n",
      "ing.\n",
      "sp.\n",
      "thqubmil.\n",
      "zifthygurumulshm.\n",
      "reabshuvigrahiaxysympajawshiquoywephowbupreallygo.\n",
      "j.\n",
      "wage.\n",
      "forwebumopawbed.\n",
      "nuffelswrekkeywoospuffakfuffescial.\n",
      "pastwuquumbruvapatzkjqxzjji.\n"
     ]
    }
   ],
   "source": [
    "# sampling dumb lang  model basesd on probability matrix \n",
    "g=torch.Generator().manual_seed(8979)\n",
    "for i in range(20):\n",
    "\n",
    "  ix1 = 0\n",
    "  ix2 = 0 \n",
    "  out = []\n",
    "  while True:\n",
    "    p = P[ix1][ix2] \n",
    "    \n",
    "    # print(ix1,ix2)\n",
    "    ix1=ix2\n",
    "    ix2 = torch.multinomial(p,num_samples=1,replacement=True, generator=g).item()\n",
    "    \n",
    "    out.append(itos[ix2])\n",
    "    \n",
    "    if ix2 == 0:\n",
    "      break\n",
    "  print(''.join(out))"
   ]
  },
  {
   "cell_type": "code",
   "execution_count": 7,
   "metadata": {},
   "outputs": [
    {
     "name": "stdout",
     "output_type": "stream",
     "text": [
      "log -7122799.0\n",
      "nll 7122799.0\n",
      "LOSS nll/n 1.8429871797561646\n"
     ]
    }
   ],
   "source": [
    "# loss calculation for model based on probability materix \n",
    "logLikelihood = 0.0\n",
    "nll = 0\n",
    "n = 0\n",
    "for w in  words:\n",
    "    chs = ['.'] + ['.'] + list(w) + ['.']\n",
    "    for ch1,ch2,ch3 in zip(chs, chs[1:], chs[2:]):\n",
    "        ix1 = stoi[ch1]\n",
    "        ix2 = stoi[ch2]\n",
    "        ix3 = stoi[ch3]\n",
    "        prob = P[ix1][ix2][ix3]\n",
    "        logprob = torch.log(prob) #multiplication of probabilites same as addition of negative log probabilites\n",
    "        logLikelihood += logprob\n",
    "        n += 1  \n",
    "    nll = -logLikelihood\n",
    "      \n",
    "print(f\"log {logLikelihood}\")\n",
    "print(f\"nll {nll}\")\n",
    "print(f\"LOSS nll/n {nll/n}\")"
   ]
  },
  {
   "cell_type": "code",
   "execution_count": 8,
   "metadata": {},
   "outputs": [],
   "source": [
    "#This model has lower loss compaerd to the bigram probability matrix model"
   ]
  },
  {
   "cell_type": "code",
   "execution_count": 9,
   "metadata": {},
   "outputs": [],
   "source": [
    "#Now neural net work approach"
   ]
  },
  {
   "cell_type": "code",
   "execution_count": 10,
   "metadata": {},
   "outputs": [],
   "source": [
    "#create training set \n",
    "xs, ys = [], []\n",
    "n = 0\n",
    "for w in words:\n",
    "    chs = ['.'] + ['.'] + list(w) + ['.']\n",
    "    for ch1, ch2, ch3 in zip(chs, chs[1:], chs[2:]):\n",
    "        ix1 = stoi[ch1]\n",
    "        ix2 = stoi[ch2]\n",
    "        ix3 = stoi[ch3]\n",
    "        # print(ch1,ch2) be carful with prints and for loops long for loops are very hard to stop ,kernel become un alive \n",
    "        xs.append([ix1, ix2])\n",
    "        ys.append(ix3)\n",
    "\n",
    "xs = torch.tensor(xs)\n",
    "ys = torch.tensor(ys)"
   ]
  },
  {
   "cell_type": "code",
   "execution_count": 11,
   "metadata": {},
   "outputs": [],
   "source": [
    "W = torch.randn((54,27),requires_grad=True).float()"
   ]
  },
  {
   "cell_type": "code",
   "execution_count": 12,
   "metadata": {},
   "outputs": [
    {
     "name": "stdout",
     "output_type": "stream",
     "text": [
      "0 tensor(4.3468, grad_fn=<AddBackward0>)\n",
      "1 tensor(3.7407, grad_fn=<AddBackward0>)\n",
      "2 tensor(3.4290, grad_fn=<AddBackward0>)\n",
      "3 tensor(3.2268, grad_fn=<AddBackward0>)\n",
      "4 tensor(3.0854, grad_fn=<AddBackward0>)\n",
      "5 tensor(2.9826, grad_fn=<AddBackward0>)\n",
      "6 tensor(2.9060, grad_fn=<AddBackward0>)\n",
      "7 tensor(2.8477, grad_fn=<AddBackward0>)\n",
      "8 tensor(2.8025, grad_fn=<AddBackward0>)\n",
      "9 tensor(2.7664, grad_fn=<AddBackward0>)\n",
      "10 tensor(2.7369, grad_fn=<AddBackward0>)\n",
      "11 tensor(2.7122, grad_fn=<AddBackward0>)\n",
      "12 tensor(2.6913, grad_fn=<AddBackward0>)\n",
      "13 tensor(2.6733, grad_fn=<AddBackward0>)\n",
      "14 tensor(2.6577, grad_fn=<AddBackward0>)\n",
      "15 tensor(2.6441, grad_fn=<AddBackward0>)\n",
      "16 tensor(2.6320, grad_fn=<AddBackward0>)\n",
      "17 tensor(2.6213, grad_fn=<AddBackward0>)\n",
      "18 tensor(2.6117, grad_fn=<AddBackward0>)\n",
      "19 tensor(2.6031, grad_fn=<AddBackward0>)\n",
      "20 tensor(2.5953, grad_fn=<AddBackward0>)\n",
      "21 tensor(2.5882, grad_fn=<AddBackward0>)\n",
      "22 tensor(2.5817, grad_fn=<AddBackward0>)\n",
      "23 tensor(2.5758, grad_fn=<AddBackward0>)\n",
      "24 tensor(2.5703, grad_fn=<AddBackward0>)\n",
      "25 tensor(2.5653, grad_fn=<AddBackward0>)\n",
      "26 tensor(2.5607, grad_fn=<AddBackward0>)\n",
      "27 tensor(2.5563, grad_fn=<AddBackward0>)\n",
      "28 tensor(2.5523, grad_fn=<AddBackward0>)\n",
      "29 tensor(2.5486, grad_fn=<AddBackward0>)\n",
      "30 tensor(2.5451, grad_fn=<AddBackward0>)\n",
      "31 tensor(2.5418, grad_fn=<AddBackward0>)\n",
      "32 tensor(2.5387, grad_fn=<AddBackward0>)\n",
      "33 tensor(2.5358, grad_fn=<AddBackward0>)\n",
      "34 tensor(2.5331, grad_fn=<AddBackward0>)\n",
      "35 tensor(2.5305, grad_fn=<AddBackward0>)\n",
      "36 tensor(2.5281, grad_fn=<AddBackward0>)\n",
      "37 tensor(2.5258, grad_fn=<AddBackward0>)\n",
      "38 tensor(2.5237, grad_fn=<AddBackward0>)\n",
      "39 tensor(2.5216, grad_fn=<AddBackward0>)\n",
      "40 tensor(2.5196, grad_fn=<AddBackward0>)\n",
      "41 tensor(2.5178, grad_fn=<AddBackward0>)\n",
      "42 tensor(2.5160, grad_fn=<AddBackward0>)\n",
      "43 tensor(2.5143, grad_fn=<AddBackward0>)\n",
      "44 tensor(2.5127, grad_fn=<AddBackward0>)\n",
      "45 tensor(2.5112, grad_fn=<AddBackward0>)\n",
      "46 tensor(2.5098, grad_fn=<AddBackward0>)\n",
      "47 tensor(2.5084, grad_fn=<AddBackward0>)\n",
      "48 tensor(2.5070, grad_fn=<AddBackward0>)\n",
      "49 tensor(2.5058, grad_fn=<AddBackward0>)\n",
      "50 tensor(2.5046, grad_fn=<AddBackward0>)\n",
      "51 tensor(2.5034, grad_fn=<AddBackward0>)\n",
      "52 tensor(2.5023, grad_fn=<AddBackward0>)\n",
      "53 tensor(2.5012, grad_fn=<AddBackward0>)\n",
      "54 tensor(2.5002, grad_fn=<AddBackward0>)\n",
      "55 tensor(2.4992, grad_fn=<AddBackward0>)\n",
      "56 tensor(2.4982, grad_fn=<AddBackward0>)\n",
      "57 tensor(2.4973, grad_fn=<AddBackward0>)\n",
      "58 tensor(2.4964, grad_fn=<AddBackward0>)\n",
      "59 tensor(2.4956, grad_fn=<AddBackward0>)\n",
      "60 tensor(2.4948, grad_fn=<AddBackward0>)\n",
      "61 tensor(2.4940, grad_fn=<AddBackward0>)\n",
      "62 tensor(2.4932, grad_fn=<AddBackward0>)\n",
      "63 tensor(2.4925, grad_fn=<AddBackward0>)\n",
      "64 tensor(2.4918, grad_fn=<AddBackward0>)\n",
      "65 tensor(2.4911, grad_fn=<AddBackward0>)\n",
      "66 tensor(2.4904, grad_fn=<AddBackward0>)\n",
      "67 tensor(2.4898, grad_fn=<AddBackward0>)\n",
      "68 tensor(2.4892, grad_fn=<AddBackward0>)\n",
      "69 tensor(2.4886, grad_fn=<AddBackward0>)\n",
      "70 tensor(2.4880, grad_fn=<AddBackward0>)\n",
      "71 tensor(2.4874, grad_fn=<AddBackward0>)\n",
      "72 tensor(2.4869, grad_fn=<AddBackward0>)\n",
      "73 tensor(2.4863, grad_fn=<AddBackward0>)\n",
      "74 tensor(2.4858, grad_fn=<AddBackward0>)\n",
      "75 tensor(2.4853, grad_fn=<AddBackward0>)\n",
      "76 tensor(2.4848, grad_fn=<AddBackward0>)\n",
      "77 tensor(2.4844, grad_fn=<AddBackward0>)\n",
      "78 tensor(2.4839, grad_fn=<AddBackward0>)\n",
      "79 tensor(2.4834, grad_fn=<AddBackward0>)\n",
      "80 tensor(2.4830, grad_fn=<AddBackward0>)\n",
      "81 tensor(2.4826, grad_fn=<AddBackward0>)\n",
      "82 tensor(2.4822, grad_fn=<AddBackward0>)\n",
      "83 tensor(2.4818, grad_fn=<AddBackward0>)\n",
      "84 tensor(2.4814, grad_fn=<AddBackward0>)\n",
      "85 tensor(2.4810, grad_fn=<AddBackward0>)\n",
      "86 tensor(2.4806, grad_fn=<AddBackward0>)\n",
      "87 tensor(2.4803, grad_fn=<AddBackward0>)\n",
      "88 tensor(2.4799, grad_fn=<AddBackward0>)\n",
      "89 tensor(2.4796, grad_fn=<AddBackward0>)\n",
      "90 tensor(2.4792, grad_fn=<AddBackward0>)\n",
      "91 tensor(2.4789, grad_fn=<AddBackward0>)\n",
      "92 tensor(2.4786, grad_fn=<AddBackward0>)\n",
      "93 tensor(2.4783, grad_fn=<AddBackward0>)\n",
      "94 tensor(2.4780, grad_fn=<AddBackward0>)\n",
      "95 tensor(2.4777, grad_fn=<AddBackward0>)\n",
      "96 tensor(2.4774, grad_fn=<AddBackward0>)\n",
      "97 tensor(2.4771, grad_fn=<AddBackward0>)\n",
      "98 tensor(2.4768, grad_fn=<AddBackward0>)\n",
      "99 tensor(2.4765, grad_fn=<AddBackward0>)\n"
     ]
    },
    {
     "data": {
      "text/plain": [
       "[<matplotlib.lines.Line2D at 0x16a2b0700>]"
      ]
     },
     "execution_count": 12,
     "metadata": {},
     "output_type": "execute_result"
    },
    {
     "data": {
      "image/png": "[encoded data removed]",
      "text/plain": [
       "<Figure size 640x480 with 1 Axes>"
      ]
     },
     "metadata": {},
     "output_type": "display_data"
    }
   ],
   "source": [
    "lossi= []\n",
    "\n",
    "xenc=F.one_hot(xs,num_classes=27).float()\n",
    "for k in range(100):\n",
    "    # forward pass\n",
    "    num=xs.shape[0]\n",
    "    logits= xenc.view(-1,54)@W\n",
    "    counts = logits.exp()\n",
    "     \n",
    "    probs = counts/counts.sum(1,keepdims=True)\n",
    "    # loss calculation\n",
    "    loss = -probs[torch.arange(num),ys].log().mean() +0.01*(W**2).mean() #regularization ie smoothing the weights\n",
    "    \n",
    "    # loss=F.cross_entropy(probs,ys) \n",
    "    W.grad=None \n",
    "    loss.backward()\n",
    "    print(k,loss)\n",
    "    lossi.append(loss.data)\n",
    "    # update\n",
    "    W.data += -50 * W.grad\n",
    "plt.plot(lossi)"
   ]
  },
  {
   "cell_type": "code",
   "execution_count": 140,
   "metadata": {},
   "outputs": [],
   "source": [
    "#achieved lower loss than model that took in single previous charecter in 100 steps"
   ]
  }
 ],
 "metadata": {
  "kernelspec": {
   "display_name": "Python 3",
   "language": "python",
   "name": "python3"
  },
  "language_info": {
   "codemirror_mode": {
    "name": "ipython",
    "version": 3
   },
   "file_extension": ".py",
   "mimetype": "text/x-python",
   "name": "python",
   "nbconvert_exporter": "python",
   "pygments_lexer": "ipython3",
   "version": "3.10.9"
  },
  "orig_nbformat": 4,
  "vscode": {
   "interpreter": {
    "hash": "31f2aee4e71d21fbe5cf8b01ff0e069b9275f58929596ceb00d14d90e3e16cd6"
   }
  }
 },
 "nbformat": 4,
 "nbformat_minor": 2
}
