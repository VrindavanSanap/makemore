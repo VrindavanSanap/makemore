{
 "cells": [
  {
   "cell_type": "code",
   "execution_count": 2,
   "metadata": {},
   "outputs": [],
   "source": [
    "########################\n",
    "#\n",
    "# Excersises\n",
    "#\n",
    "########################"
   ]
  },
  {
   "cell_type": "markdown",
   "metadata": {},
   "source": [
    "\n",
    "### E01: train a trigram language model, i.e. take two characters as an input to predict the 3rd one. Feel free to use either counting or a neural net. Evaluate the loss; Did it improve over a bigram model?\n"
   ]
  },
  {
   "cell_type": "code",
   "execution_count": 2,
   "metadata": {},
   "outputs": [],
   "source": [
    "import torch\n",
    "import matplotlib.pyplot as plt \n",
    "import torch.nn.functional as F\n",
    "\n",
    "import requests \n",
    "from tqdm import tqdm"
   ]
  },
  {
   "cell_type": "code",
   "execution_count": 3,
   "metadata": {},
   "outputs": [
    {
     "name": "stdout",
     "output_type": "stream",
     "text": [
      "32033 15 2\n"
     ]
    }
   ],
   "source": [
    "url = \"https://raw.githubusercontent.com/karpathy/makemore/master/names.txt\"\n",
    "# url = \"https://raw.githubusercontent.com/dwyl/english-words/master/words_alpha.txt\" #English dictionary\n",
    "\n",
    "res = requests.get(url)\n",
    "words = (res.text).splitlines()\n",
    "print(len(words), max(len(w) for w in words), min(len(w) for w in words))"
   ]
  },
  {
   "cell_type": "code",
   "execution_count": 4,
   "metadata": {},
   "outputs": [],
   "source": [
    "chars = sorted(list(set((''.join(words)))))  #get unique characters \n",
    "stoi = {s:i+1 for i, s in enumerate(chars)}  # map char to int\n",
    "stoi[\".\"] = 0 \n",
    "itos = {i:s for s,i in stoi.items()}         # map int to char"
   ]
  },
  {
   "cell_type": "code",
   "execution_count": 5,
   "metadata": {},
   "outputs": [],
   "source": [
    "# calculate trigram frequencies in Matrix Form \n",
    "N = torch.zeros( 27, 27, 27, dtype=int)\n",
    "b = {}\n",
    "for w in  words:\n",
    "    chs =  ['.']  + ['.']  +  list(w) + ['.'] \n",
    "    \n",
    "    for ch1,ch2,ch3 in zip(chs, chs[1:], chs[2:]):\n",
    "        \n",
    "        ix1 = stoi[ch1]\n",
    "        ix2 = stoi[ch2]\n",
    "        ix3 = stoi[ch3]\n",
    "        N[ix1][ix2][ix3] += 1\n",
    "    "
   ]
  },
  {
   "cell_type": "code",
   "execution_count": 6,
   "metadata": {},
   "outputs": [
    {
     "name": "stdout",
     "output_type": "stream",
     "text": [
      "torch.Size([27, 27, 27])\n"
     ]
    }
   ],
   "source": [
    "# Convert trigram frequency matrix to probability matrix\n",
    "P=(N+ 0.0001).float()# adding 1 to prevent probability from being 0 giving infinite loss\n",
    "P=P/P.sum(1, keepdim=True)\n",
    "print(P.shape)"
   ]
  },
  {
   "cell_type": "code",
   "execution_count": 28,
   "metadata": {},
   "outputs": [
    {
     "name": "stdout",
     "output_type": "stream",
     "text": [
      "g.\n",
      "do.\n",
      "xzajj.\n",
      "kimbappleejujurfamouxl.\n",
      "j.\n",
      "x.\n",
      "vivittheyjaqusuzzmyahdiddequssighadriamofftorevaler.\n",
      "fizyimyajwazigyidycyngjj.\n",
      "zyogh.\n",
      "yedwoorgrahoryse.\n",
      "f.\n",
      "darrozyitifoluitfiqushophigh.\n",
      "cobbqqzkaebuxxsuzubudouff.\n",
      "hievexxzjagh.\n",
      "adody.\n",
      "freygvjfjgjj.\n",
      "tharqutvightoizestoplippermakovanfosbodousfizzavivannawkxqqfkpqqvwpwqxcxxwxxwpwjwazlocchikhamotlexxwzx.\n",
      "kubrecickleivelijouxsukwu.\n",
      "shugozzmaurgiffggiffatobby.\n",
      "jabby.\n"
     ]
    }
   ],
   "source": [
    "# sampling dumb lang  model basesd on probability matrix \n",
    "for i in range(20):\n",
    "\n",
    "  ix1 = 0\n",
    "  ix2 = 0 \n",
    "  out = []\n",
    "  while True:\n",
    "    p = P[ix1][ix2] \n",
    "    \n",
    "    # print(ix1,ix2)\n",
    "    ix1=ix2\n",
    "    ix2 = torch.multinomial(p,num_samples=1,replacement=True, generator=g).item()\n",
    "    \n",
    "    out.append(itos[ix2])\n",
    "    \n",
    "    if ix2 == 0:\n",
    "      break\n",
    "  print(''.join(out))"
   ]
  },
  {
   "cell_type": "code",
   "execution_count": 29,
   "metadata": {},
   "outputs": [
    {
     "name": "stdout",
     "output_type": "stream",
     "text": [
      "log -416811.03125\n",
      "nll 416811.03125\n",
      "LOSS nll/n 1.826948642730713\n"
     ]
    }
   ],
   "source": [
    "# loss calculation for model based on probability materix \n",
    "logLikelihood = 0.0\n",
    "nll = 0\n",
    "n = 0\n",
    "for w in  words:\n",
    "    chs = ['.'] + ['.'] + list(w) + ['.']\n",
    "    for ch1,ch2,ch3 in zip(chs, chs[1:], chs[2:]):\n",
    "        ix1 = stoi[ch1]\n",
    "        ix2 = stoi[ch2]\n",
    "        ix3 = stoi[ch3]\n",
    "        prob = P[ix1][ix2][ix3]\n",
    "        logprob = torch.log(prob) #multiplication of probabilites same as addition of negative log probabilites\n",
    "        logLikelihood += logprob\n",
    "        n += 1  \n",
    "    nll = -logLikelihood\n",
    "      \n",
    "print(f\"log {logLikelihood}\")\n",
    "print(f\"nll {nll}\")\n",
    "print(f\"LOSS nll/n {nll/n}\")"
   ]
  },
  {
   "cell_type": "code",
   "execution_count": 10,
   "metadata": {},
   "outputs": [],
   "source": [
    "#This model has lower loss compaerd to the bigram probability matrix model (2.45)"
   ]
  },
  {
   "cell_type": "code",
   "execution_count": 11,
   "metadata": {},
   "outputs": [],
   "source": [
    "#Now neural net work approach"
   ]
  },
  {
   "cell_type": "code",
   "execution_count": 32,
   "metadata": {},
   "outputs": [],
   "source": [
    "#create training set \n",
    "xs, ys = [], []\n",
    "n = 0\n",
    "for w in words:\n",
    "    chs = ['.'] + ['.'] + list(w) + ['.']\n",
    "    for ch1, ch2, ch3 in zip(chs, chs[1:], chs[2:]):\n",
    "        ix1 = stoi[ch1]\n",
    "        ix2 = stoi[ch2]\n",
    "        ix3 = stoi[ch3]\n",
    "        # print(ch1,ch2) be carful with prints and for loops long for loops are very hard to stop ,kernel become un alive \n",
    "        xs.append([ix1, ix2])\n",
    "        ys.append(ix3)\n",
    "\n",
    "xs = torch.tensor(xs)\n",
    "ys = torch.tensor(ys)"
   ]
  },
  {
   "cell_type": "code",
   "execution_count": 212,
   "metadata": {},
   "outputs": [],
   "source": [
    "W = torch.randn((54,27),requires_grad=True).float() "
   ]
  },
  {
   "cell_type": "code",
   "execution_count": 38,
   "metadata": {},
   "outputs": [
    {
     "data": {
      "text/plain": [
       "torch.Size([228146, 2, 27])"
      ]
     },
     "execution_count": 38,
     "metadata": {},
     "output_type": "execute_result"
    }
   ],
   "source": [
    "xenc.shape"
   ]
  },
  {
   "cell_type": "code",
   "execution_count": 213,
   "metadata": {},
   "outputs": [
    {
     "name": "stderr",
     "output_type": "stream",
     "text": [
      "100%|██████████| 200/200 [00:06<00:00, 32.24it/s, loss=tensor(2.4173)]\n"
     ]
    },
    {
     "data": {
      "text/plain": [
       "[<matplotlib.lines.Line2D at 0x1676f9c40>]"
      ]
     },
     "execution_count": 213,
     "metadata": {},
     "output_type": "execute_result"
    },
    {
     "data": {
      "image/png": "[encoded data removed]",
      "text/plain": [
       "<Figure size 640x480 with 1 Axes>"
      ]
     },
     "metadata": {},
     "output_type": "display_data"
    }
   ],
   "source": [
    "lossi= []\n",
    "progress_bar = tqdm(range(200))\n",
    "xenc=F.one_hot(xs,num_classes=27).float()\n",
    "for k in progress_bar:\n",
    "    # forward pass\n",
    "    num=xs.shape[0]\n",
    "    logits= xenc.view(-1,54)@W\n",
    "    counts = logits.exp()\n",
    "     \n",
    "    probs = counts/counts.sum(1,keepdims=True)\n",
    "    # loss calculation\n",
    "    loss = -probs[torch.arange(num),ys].log().mean() +0.01*(W**2).mean() #regularization ie smoothing the weights\n",
    "    \n",
    "    # loss=F.cross_entropy(probs,ys)\n",
    "    W.grad=None \n",
    "    loss.backward()\n",
    "    progress_bar.set_postfix(loss = loss.data)\n",
    "    lossi.append(loss.data)\n",
    "    # update\n",
    "    W.data += -10 * W.grad\n",
    "    \n",
    "plt.plot(lossi)"
   ]
  },
  {
   "cell_type": "code",
   "execution_count": 221,
   "metadata": {},
   "outputs": [
    {
     "name": "stdout",
     "output_type": "stream",
     "text": [
      "lhathiramtte.\n",
      "jabelyin.\n",
      "zioze.\n",
      "mann.\n",
      "ad.\n",
      "ulviray.\n",
      "aelin.\n",
      "ynnaslahoh.\n",
      "avid.\n",
      "mon.\n"
     ]
    }
   ],
   "source": [
    "for i in range(10):\n",
    "\n",
    "  ix = torch.tensor([0,0])\n",
    "  out = []\n",
    "  \n",
    "  while True:\n",
    "    # p=P[ix]   \n",
    "    xenc = F.one_hot(ix,num_classes=27).view(-1,54).float()\n",
    "    logits = xenc @ W\n",
    "    counts = logits.exp()\n",
    "    p = counts/counts.sum(1,keepdims=True)\n",
    "    isample = torch.multinomial(p,num_samples=1,replacement=True, ).item()\n",
    "    \n",
    "    out.append(itos[isample])\n",
    "    ix[0] = ix[1]\n",
    "    ix[1] = isample\n",
    "    if isample == 0:\n",
    "      break\n",
    "    \n",
    "     \n",
    "  print(''.join(out))"
   ]
  },
  {
   "cell_type": "code",
   "execution_count": 193,
   "metadata": {},
   "outputs": [
    {
     "name": "stderr",
     "output_type": "stream",
     "text": [
      "100%|██████████| 200/200 [00:19<00:00, 10.01it/s, loss=tensor(2.3378)]\n"
     ]
    },
    {
     "data": {
      "text/plain": [
       "[<matplotlib.lines.Line2D at 0x168420be0>]"
      ]
     },
     "execution_count": 193,
     "metadata": {},
     "output_type": "execute_result"
    },
    {
     "data": {
      "image/png": "[encoded data removed]",
      "text/plain": [
       "<Figure size 640x480 with 1 Axes>"
      ]
     },
     "metadata": {},
     "output_type": "display_data"
    }
   ],
   "source": [
    "W = torch.randn((729, 27))*0.01;W.requires_grad = True\n",
    "lossi= []\n",
    "\n",
    "xenc=F.one_hot(xs[:,0] * 27 + xs[:,1],num_classes=729).float()\n",
    "progress_bar = tqdm(range(200))\n",
    "for k in progress_bar:\n",
    "    # forward pass\n",
    "    num=xs.shape[0]\n",
    "    logits= xenc.view(-1,729)@W\n",
    "    counts = logits.exp()\n",
    "     \n",
    "    probs = counts/counts.sum(1,keepdims=True)\n",
    "    # loss calculation\n",
    "    loss = -probs[torch.arange(num),ys].log().mean() +0.01*(W**2).mean() #regularization ie smoothing the weights\n",
    "    # loss=F.cross_entropy(probs,ys) \n",
    "    W.grad=None \n",
    "    loss.backward()\n",
    "    lossi.append(loss.data)\n",
    "    # update\n",
    "    progress_bar.set_postfix(loss = loss.data)\n",
    "    W.data += -50 * W.grad\n",
    "    \n",
    "plt.plot(lossi)"
   ]
  },
  {
   "cell_type": "code",
   "execution_count": 208,
   "metadata": {},
   "outputs": [
    {
     "name": "stdout",
     "output_type": "stream",
     "text": [
      "nokszxlharleen.\n",
      "adi.\n",
      "betane.\n",
      "zrhen.\n",
      "kie.\n",
      "emxfccorl.\n",
      "sapbwjvdrci.\n",
      "fiene.\n",
      "nmwvqfxwh.\n",
      "zskcsqamaartertkoblqczjjbfigh.\n",
      "boswsvon.\n",
      "anaochadenton.\n",
      "da.\n",
      "jaqkosf.\n",
      "sa.\n",
      "ay.\n",
      "da.\n",
      "saoorqehlorrkxkoehdvfyizki.\n",
      "jduqesty.\n",
      "emeri.\n"
     ]
    }
   ],
   "source": [
    "#Yay almost the same loss as the model with direct Prob matrix\n",
    "\n",
    "# Now we will sample the MLP model\n",
    "for i in range(20):\n",
    "\n",
    "  ix1 = 0\n",
    "  ix2 = 0\n",
    "  out = []\n",
    "  \n",
    "  while True:\n",
    "    # p=P[ix]   \n",
    "    xenc = F.one_hot(torch.tensor([ix1 * 27 + ix2]),num_classes=729).float()\n",
    "    logits = xenc @ W\n",
    "    counts = logits.exp()\n",
    "    p = counts/counts.sum(1,keepdims=True)\n",
    "    isample = torch.multinomial(p,num_samples=1,replacement=True, ).item()\n",
    "    \n",
    "    out.append(itos[isample])\n",
    "    ix1 = ix2\n",
    "    ix2 = isample\n",
    "    if isample == 0:\n",
    "      break\n",
    "  print(''.join(out))"
   ]
  }
 ],
 "metadata": {
  "kernelspec": {
   "display_name": "Python 3",
   "language": "python",
   "name": "python3"
  },
  "language_info": {
   "codemirror_mode": {
    "name": "ipython",
    "version": 3
   },
   "file_extension": ".py",
   "mimetype": "text/x-python",
   "name": "python",
   "nbconvert_exporter": "python",
   "pygments_lexer": "ipython3",
   "version": "3.9.6"
  },
  "orig_nbformat": 4,
  "vscode": {
   "interpreter": {
    "hash": "31f2aee4e71d21fbe5cf8b01ff0e069b9275f58929596ceb00d14d90e3e16cd6"
   }
  }
 },
 "nbformat": 4,
 "nbformat_minor": 2
}
