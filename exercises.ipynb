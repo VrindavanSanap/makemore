{
 "cells": [
  {
   "cell_type": "code",
   "execution_count": 1,
   "metadata": {},
   "outputs": [],
   "source": [
    "########################\n",
    "#\n",
    "# Excersises\n",
    "#\n",
    "########################"
   ]
  },
  {
   "cell_type": "markdown",
   "metadata": {},
   "source": [
    "\n",
    "### E01: train a trigram language model, i.e. take two characters as an input to predict the 3rd one. Feel free to use either counting or a neural net. Evaluate the loss; Did it improve over a bigram model?\n"
   ]
  },
  {
   "cell_type": "code",
   "execution_count": 1,
   "metadata": {},
   "outputs": [],
   "source": [
    "import torch\n",
    "import matplotlib.pyplot as plt \n",
    "import torch.nn.functional as F\n",
    "\n",
    "import requests "
   ]
  },
  {
   "cell_type": "code",
   "execution_count": 47,
   "metadata": {},
   "outputs": [],
   "source": [
    "chars = sorted(list(set((''.join(words)))))  #get unique characters \n",
    "stoi = {s:i+1 for i, s in enumerate(chars)}  # map char to int\n",
    "stoi[\".\"] = 0 \n",
    "itos = {i:s for s,i in stoi.items()}         # map int to char"
   ]
  },
  {
   "cell_type": "code",
   "execution_count": 70,
   "metadata": {},
   "outputs": [],
   "source": [
    "# calculate trigram frequencies in Matrix Form \n",
    "N = torch.zeros( 27, 27, 27, dtype=int)\n",
    "b = {}\n",
    "for w in  words:\n",
    "    chs =  ['.']  + ['.']  +  list(w) + ['.'] \n",
    "    \n",
    "    for ch1,ch2,ch3 in zip(chs, chs[1:], chs[2:]):\n",
    "        \n",
    "        ix1 = stoi[ch1]\n",
    "        ix2 = stoi[ch2]\n",
    "        ix3 = stoi[ch3]\n",
    "        N[ix1][ix2][ix3] += 1\n",
    "    "
   ]
  },
  {
   "cell_type": "code",
   "execution_count": 71,
   "metadata": {},
   "outputs": [
    {
     "name": "stdout",
     "output_type": "stream",
     "text": [
      "torch.Size([27, 27, 27])\n"
     ]
    }
   ],
   "source": [
    "# Convert trigram frequency matrix to probability matrix\n",
    "P=(N+ 0.0001).float()# adding 1 to prevent probability from being 0 giving infinite loss\n",
    "P=P/P.sum(1, keepdim=True)\n",
    "print(P.shape)"
   ]
  },
  {
   "cell_type": "code",
   "execution_count": 65,
   "metadata": {},
   "outputs": [
    {
     "data": {
      "text/plain": [
       "tensor([3.7037e-02, 9.9256e-09, 4.2735e-07, 7.0421e-07, 2.0243e-07, 2.4456e-08,\n",
       "        2.2726e-06, 2.6314e-06, 6.5488e-08, 3.5600e-08, 1.9999e-06, 6.2111e-07,\n",
       "        6.3775e-08, 1.2674e-07, 1.2392e-07, 3.8476e-08, 2.1275e-06, 9.0887e-06,\n",
       "        4.5269e-08, 2.0790e-07, 3.7174e-07, 7.5131e-08, 2.1186e-07, 1.0869e-06,\n",
       "        2.7776e-06, 7.4294e-08, 3.1949e-07])"
      ]
     },
     "execution_count": 65,
     "metadata": {},
     "output_type": "execute_result"
    }
   ],
   "source": [
    "P[0][0]"
   ]
  },
  {
   "cell_type": "code",
   "execution_count": 72,
   "metadata": {},
   "outputs": [
    {
     "data": {
      "text/plain": [
       "[<matplotlib.lines.Line2D at 0x2b2f6119f10>]"
      ]
     },
     "execution_count": 72,
     "metadata": {},
     "output_type": "execute_result"
    },
    {
     "data": {
      "image/png": "[encoded data removed]",
      "text/plain": [
       "<Figure size 432x288 with 1 Axes>"
      ]
     },
     "metadata": {
      "needs_background": "light"
     },
     "output_type": "display_data"
    }
   ],
   "source": [
    "plt.plot(P[0][0].tolist())"
   ]
  },
  {
   "cell_type": "code",
   "execution_count": null,
   "metadata": {},
   "outputs": [],
   "source": []
  },
  {
   "cell_type": "code",
   "execution_count": 77,
   "metadata": {},
   "outputs": [
    {
     "name": "stdout",
     "output_type": "stream",
     "text": [
      "qwzx.\n",
      "trexspromoffiqurexzqxqkqqnpadforyssuhihuxxwgwjxjkazulfggowdyxissigh.\n",
      "zopek.\n",
      "zyridiffatoff.\n",
      "g.\n",
      "j.\n",
      "b.\n",
      "lippholuwafwkegaebres.\n",
      "kyzx.\n",
      "p.\n",
      "jujuprquedwazam.\n",
      "wabelo.\n",
      "inquolbukwuelyockfqkzaydge.\n",
      "chrockyzabbfqkqqtpzjaychlogh.\n",
      "x.\n",
      "jerkhyngwjw.\n",
      "w.\n",
      "jozzoevyeffpphoguyptowsoffgpqffyprjujuvriffkarrirray.\n",
      "b.\n",
      "jattowaspegertoxxwk.\n"
     ]
    }
   ],
   "source": [
    "# sampling dumb lang  model basesd on probability matrix \n",
    "g=torch.Generator().manual_seed(55)\n",
    "for i in range(20):\n",
    "\n",
    "  ix1 = 0\n",
    "  ix2 = 0 \n",
    "  out = []\n",
    "  while True:\n",
    "    p = P[ix1][ix2] \n",
    "    \n",
    "    # print(ix1,ix2)\n",
    "    ix1=ix2\n",
    "    ix2 = torch.multinomial(p,num_samples=1,replacement=True, generator=g).item()\n",
    "    \n",
    "    out.append(itos[ix2])\n",
    "    \n",
    "    if ix2 == 0:\n",
    "      break\n",
    "  print(''.join(out))"
   ]
  },
  {
   "cell_type": "code",
   "execution_count": 78,
   "metadata": {},
   "outputs": [
    {
     "name": "stdout",
     "output_type": "stream",
     "text": [
      "log -416811.03125\n",
      "nll 416811.03125\n",
      "LOSS nll/n 1.826948642730713\n"
     ]
    }
   ],
   "source": [
    "# loss calculation for model based on probability materix \n",
    "logLikelihood = 0.0\n",
    "nll = 0\n",
    "n = 0\n",
    "for w in  words:\n",
    "    chs = ['.'] + ['.'] + list(w) + ['.']\n",
    "    for ch1,ch2,ch3 in zip(chs, chs[1:], chs[2:]):\n",
    "        ix1 = stoi[ch1]\n",
    "        ix2 = stoi[ch2]\n",
    "        ix3 = stoi[ch3]\n",
    "        prob = P[ix1][ix2][ix3]\n",
    "        logprob = torch.log(prob) #multiplication of probabilites same as addition of negative log probabilites\n",
    "        logLikelihood += logprob\n",
    "        n += 1  \n",
    "    nll = -logLikelihood\n",
    "      \n",
    "print(f\"log {logLikelihood}\")\n",
    "print(f\"nll {nll}\")\n",
    "print(f\"LOSS nll/n {nll/n}\")"
   ]
  },
  {
   "cell_type": "code",
   "execution_count": 79,
   "metadata": {},
   "outputs": [],
   "source": [
    "#This model has lower loss compaerd to the bigram probability matrix model"
   ]
  },
  {
   "cell_type": "code",
   "execution_count": null,
   "metadata": {},
   "outputs": [],
   "source": [
    "#Now neural net work approach\n"
   ]
  },
  {
   "cell_type": "code",
   "execution_count": 86,
   "metadata": {},
   "outputs": [],
   "source": [
    "#create training set \n",
    "xs, ys = [], []\n",
    "n = 0\n",
    "for w in words:\n",
    "    chs = ['.'] + ['.'] + list(w) + ['.']\n",
    "    for ch1, ch2, ch3 in zip(chs, chs[1:], chs[2:]):\n",
    "        ix1 = stoi[ch1]\n",
    "        ix2 = stoi[ch2]\n",
    "        ix3 = stoi[ch3]\n",
    "        # print(ch1,ch2) be carful with prints and for loops long for loops are very hard to stop ,kernel become un alive \n",
    "        xs.append([ix1, ix2])\n",
    "        ys.append(ix3)\n",
    "\n",
    "xs = torch.tensor(xs)\n",
    "ys = torch.tensor(ys)"
   ]
  },
  {
   "cell_type": "code",
   "execution_count": 137,
   "metadata": {},
   "outputs": [],
   "source": [
    "W = torch.randn((54,27),requires_grad=True).float()\n"
   ]
  },
  {
   "cell_type": "code",
   "execution_count": 138,
   "metadata": {},
   "outputs": [
    {
     "name": "stdout",
     "output_type": "stream",
     "text": [
      "0 tensor(4.1961, grad_fn=<AddBackward0>)\n",
      "1 tensor(3.3661, grad_fn=<AddBackward0>)\n",
      "2 tensor(3.1284, grad_fn=<AddBackward0>)\n",
      "3 tensor(3.0932, grad_fn=<AddBackward0>)\n",
      "4 tensor(2.8416, grad_fn=<AddBackward0>)\n",
      "5 tensor(2.7695, grad_fn=<AddBackward0>)\n",
      "6 tensor(2.7169, grad_fn=<AddBackward0>)\n",
      "7 tensor(2.6773, grad_fn=<AddBackward0>)\n",
      "8 tensor(2.6528, grad_fn=<AddBackward0>)\n",
      "9 tensor(2.6361, grad_fn=<AddBackward0>)\n",
      "10 tensor(2.6672, grad_fn=<AddBackward0>)\n",
      "11 tensor(2.5917, grad_fn=<AddBackward0>)\n",
      "12 tensor(2.6085, grad_fn=<AddBackward0>)\n",
      "13 tensor(2.5670, grad_fn=<AddBackward0>)\n",
      "14 tensor(2.6019, grad_fn=<AddBackward0>)\n",
      "15 tensor(2.5364, grad_fn=<AddBackward0>)\n",
      "16 tensor(2.5559, grad_fn=<AddBackward0>)\n",
      "17 tensor(2.5252, grad_fn=<AddBackward0>)\n",
      "18 tensor(2.5656, grad_fn=<AddBackward0>)\n",
      "19 tensor(2.5021, grad_fn=<AddBackward0>)\n",
      "20 tensor(2.5231, grad_fn=<AddBackward0>)\n",
      "21 tensor(2.4983, grad_fn=<AddBackward0>)\n",
      "22 tensor(2.5423, grad_fn=<AddBackward0>)\n",
      "23 tensor(2.4791, grad_fn=<AddBackward0>)\n",
      "24 tensor(2.5006, grad_fn=<AddBackward0>)\n",
      "25 tensor(2.4797, grad_fn=<AddBackward0>)\n",
      "26 tensor(2.5261, grad_fn=<AddBackward0>)\n",
      "27 tensor(2.4627, grad_fn=<AddBackward0>)\n",
      "28 tensor(2.4843, grad_fn=<AddBackward0>)\n",
      "29 tensor(2.4661, grad_fn=<AddBackward0>)\n",
      "30 tensor(2.5141, grad_fn=<AddBackward0>)\n",
      "31 tensor(2.4505, grad_fn=<AddBackward0>)\n",
      "32 tensor(2.4721, grad_fn=<AddBackward0>)\n",
      "33 tensor(2.4558, grad_fn=<AddBackward0>)\n",
      "34 tensor(2.5048, grad_fn=<AddBackward0>)\n",
      "35 tensor(2.4411, grad_fn=<AddBackward0>)\n",
      "36 tensor(2.4627, grad_fn=<AddBackward0>)\n",
      "37 tensor(2.4475, grad_fn=<AddBackward0>)\n",
      "38 tensor(2.4973, grad_fn=<AddBackward0>)\n",
      "39 tensor(2.4335, grad_fn=<AddBackward0>)\n",
      "40 tensor(2.4552, grad_fn=<AddBackward0>)\n",
      "41 tensor(2.4408, grad_fn=<AddBackward0>)\n",
      "42 tensor(2.4911, grad_fn=<AddBackward0>)\n",
      "43 tensor(2.4273, grad_fn=<AddBackward0>)\n",
      "44 tensor(2.4491, grad_fn=<AddBackward0>)\n",
      "45 tensor(2.4353, grad_fn=<AddBackward0>)\n",
      "46 tensor(2.4859, grad_fn=<AddBackward0>)\n",
      "47 tensor(2.4222, grad_fn=<AddBackward0>)\n",
      "48 tensor(2.4441, grad_fn=<AddBackward0>)\n",
      "49 tensor(2.4306, grad_fn=<AddBackward0>)\n",
      "50 tensor(2.4814, grad_fn=<AddBackward0>)\n",
      "51 tensor(2.4179, grad_fn=<AddBackward0>)\n",
      "52 tensor(2.4399, grad_fn=<AddBackward0>)\n",
      "53 tensor(2.4266, grad_fn=<AddBackward0>)\n",
      "54 tensor(2.4776, grad_fn=<AddBackward0>)\n",
      "55 tensor(2.4142, grad_fn=<AddBackward0>)\n",
      "56 tensor(2.4363, grad_fn=<AddBackward0>)\n",
      "57 tensor(2.4232, grad_fn=<AddBackward0>)\n",
      "58 tensor(2.4743, grad_fn=<AddBackward0>)\n",
      "59 tensor(2.4110, grad_fn=<AddBackward0>)\n",
      "60 tensor(2.4331, grad_fn=<AddBackward0>)\n",
      "61 tensor(2.4202, grad_fn=<AddBackward0>)\n",
      "62 tensor(2.4714, grad_fn=<AddBackward0>)\n",
      "63 tensor(2.4082, grad_fn=<AddBackward0>)\n",
      "64 tensor(2.4304, grad_fn=<AddBackward0>)\n",
      "65 tensor(2.4175, grad_fn=<AddBackward0>)\n",
      "66 tensor(2.4688, grad_fn=<AddBackward0>)\n",
      "67 tensor(2.4057, grad_fn=<AddBackward0>)\n",
      "68 tensor(2.4280, grad_fn=<AddBackward0>)\n",
      "69 tensor(2.4152, grad_fn=<AddBackward0>)\n",
      "70 tensor(2.4665, grad_fn=<AddBackward0>)\n",
      "71 tensor(2.4035, grad_fn=<AddBackward0>)\n",
      "72 tensor(2.4259, grad_fn=<AddBackward0>)\n",
      "73 tensor(2.4131, grad_fn=<AddBackward0>)\n",
      "74 tensor(2.4644, grad_fn=<AddBackward0>)\n",
      "75 tensor(2.4016, grad_fn=<AddBackward0>)\n",
      "76 tensor(2.4240, grad_fn=<AddBackward0>)\n",
      "77 tensor(2.4112, grad_fn=<AddBackward0>)\n",
      "78 tensor(2.4625, grad_fn=<AddBackward0>)\n",
      "79 tensor(2.3998, grad_fn=<AddBackward0>)\n",
      "80 tensor(2.4223, grad_fn=<AddBackward0>)\n",
      "81 tensor(2.4096, grad_fn=<AddBackward0>)\n",
      "82 tensor(2.4608, grad_fn=<AddBackward0>)\n",
      "83 tensor(2.3982, grad_fn=<AddBackward0>)\n",
      "84 tensor(2.4208, grad_fn=<AddBackward0>)\n",
      "85 tensor(2.4080, grad_fn=<AddBackward0>)\n",
      "86 tensor(2.4593, grad_fn=<AddBackward0>)\n",
      "87 tensor(2.3968, grad_fn=<AddBackward0>)\n",
      "88 tensor(2.4195, grad_fn=<AddBackward0>)\n",
      "89 tensor(2.4067, grad_fn=<AddBackward0>)\n",
      "90 tensor(2.4579, grad_fn=<AddBackward0>)\n",
      "91 tensor(2.3955, grad_fn=<AddBackward0>)\n",
      "92 tensor(2.4182, grad_fn=<AddBackward0>)\n",
      "93 tensor(2.4054, grad_fn=<AddBackward0>)\n",
      "94 tensor(2.4567, grad_fn=<AddBackward0>)\n",
      "95 tensor(2.3944, grad_fn=<AddBackward0>)\n",
      "96 tensor(2.4171, grad_fn=<AddBackward0>)\n",
      "97 tensor(2.4043, grad_fn=<AddBackward0>)\n",
      "98 tensor(2.4555, grad_fn=<AddBackward0>)\n",
      "99 tensor(2.3933, grad_fn=<AddBackward0>)\n"
     ]
    },
    {
     "data": {
      "text/plain": [
       "[<matplotlib.lines.Line2D at 0x2b2f73e9430>]"
      ]
     },
     "execution_count": 138,
     "metadata": {},
     "output_type": "execute_result"
    },
    {
     "data": {
      "image/png": "[encoded data removed]",
      "text/plain": [
       "<Figure size 432x288 with 1 Axes>"
      ]
     },
     "metadata": {
      "needs_background": "light"
     },
     "output_type": "display_data"
    }
   ],
   "source": [
    "lossi= []\n",
    "\n",
    "xenc=F.one_hot(xs,num_classes=27).float()\n",
    "for k in range(100):\n",
    "    # forward pass\n",
    "    num=xs.shape[0]\n",
    "    logits= xenc.view(-1,54)@W\n",
    "    counts = logits.exp()\n",
    "     \n",
    "    probs = counts/counts.sum(1,keepdims=True)\n",
    "    # loss calculation\n",
    "    loss = -probs[torch.arange(num),ys].log().mean() +0.01*(W**2).mean() #regularization ie smoothing the weights\n",
    "    # loss=F.cross_entropy(probs,ys) #better way to do the above without reinventing the wheel\n",
    "    W.grad=None \n",
    "    loss.backward()\n",
    "    print(k,loss)\n",
    "    lossi.append(loss.data)\n",
    "    # update\n",
    "    W.data += -50*W.grad\n",
    "plt.plot(lossi)"
   ]
  },
  {
   "cell_type": "code",
   "execution_count": 140,
   "metadata": {},
   "outputs": [],
   "source": [
    "#achieved lower loss than model that took in single previous charecter in 100 steps"
   ]
  },
  {
   "cell_type": "code",
   "execution_count": null,
   "metadata": {},
   "outputs": [],
   "source": []
  }
 ],
 "metadata": {
  "kernelspec": {
   "display_name": "Python 3 (ipykernel)",
   "language": "python",
   "name": "python3"
  },
  "language_info": {
   "codemirror_mode": {
    "name": "ipython",
    "version": 3
   },
   "file_extension": ".py",
   "mimetype": "text/x-python",
   "name": "python",
   "nbconvert_exporter": "python",
   "pygments_lexer": "ipython3",
   "version": "3.8.10"
  },
  "orig_nbformat": 4,
  "vscode": {
   "interpreter": {
    "hash": "fbe58ca63fe33f9eeae9e71d10368d2b4a57f2b1b395836210cc60d362c66949"
   }
  }
 },
 "nbformat": 4,
 "nbformat_minor": 2
}
