{
 "cells": [
  {
   "cell_type": "code",
   "execution_count": 6,
   "metadata": {},
   "outputs": [],
   "source": [
    "import re\n",
    "import requests\n",
    "from bs4 import BeautifulSoup"
   ]
  },
  {
   "cell_type": "code",
   "execution_count": null,
   "metadata": {},
   "outputs": [],
   "source": [
    "def getPgEssays():\n",
    "    baseUrl='http://www.paulgraham.com/'\n",
    "    response = requests.get(baseUrl+'articles.html')\n",
    "    soup = BeautifulSoup(response.text, 'html.parser')\n",
    "\n",
    "    links= [tag[\"href\"] for tag in soup.find_all('a')]  # get all a tags\n",
    "    links=[tag for tag in links if (tag[-4:]==\"html\")]  # get all html refs\n",
    "    links= list(set(links))                             # remove reddundent elements\n",
    "    links.remove('index.html')                          # remove home page\n",
    "\n",
    "    for link in links:\n",
    "        response = requests.get(baseUrl+link)\n",
    "        soup = BeautifulSoup(response.text, 'html.parser')\n",
    "        soupTitle=soup.title.text\n",
    "        soupTitle = ''.join([x for x in soupTitle if x.isalnum()]) #keep only aplhanumeric parts of title\n",
    "        \n",
    "        soupText=soup.body.text\n",
    "        soupText=soupText.replace('\\n',\" \")\n",
    "        soupText=soupText.replace(f\"\\'\",\"\")\n",
    "        soupText = soupText.encode('utf-8', errors='replace')     #python encoding shenanigans\n",
    "\n",
    "        with open(f\"data\\pg\\{soupTitle}.txt\", \"wb\") as f:\n",
    "            # Write the string to the file\n",
    "            try:\n",
    "                f.write(soupText)\n",
    "            except:\n",
    "                print(f\"ERROR PARSING {baseUrl+link}\")"
   ]
  },
  {
   "cell_type": "code",
   "execution_count": 19,
   "metadata": {},
   "outputs": [],
   "source": [
    "englishDicUrl=\"https://raw.githubusercontent.com/dwyl/english-words/master/words_alpha.txt\"\n",
    "namesUrl=\"https://raw.githubusercontent.com/karpathy/makemore/master/names.txt\"\n"
   ]
  },
  {
   "cell_type": "code",
   "execution_count": 20,
   "metadata": {},
   "outputs": [],
   "source": [
    "def getFileNameFromUrl(url):\n",
    "    return re.search(r\"/([^/]*)$\", url).group(1) \n",
    "def writeFile(fileName,data):\n",
    "    with open(f\"data/{fileName}\", \"w\") as f:\n",
    "        f.write(data)"
   ]
  },
  {
   "cell_type": "code",
   "execution_count": 28,
   "metadata": {},
   "outputs": [],
   "source": [
    "\n",
    "def writeLineByLine(url):\n",
    "    fileName=getFileNameFromUrl(url) \n",
    "    data=requests.get(url).text.replace(\"\\r\",\"\")\n",
    "    writeFile(fileName,data)\n",
    "\n",
    "def writeInSingleLine(url):\n",
    "    fileName=  getFileNameFromUrl(url)            \n",
    "    res=requests.get(url)\n",
    "    data=res.text.replace('\\n',\"\").replace(\"\\r\",\" \").replace(f\"\\\\\",\"\")\n",
    "    writeFile(fileName,data)"
   ]
  },
  {
   "cell_type": "code",
   "execution_count": 30,
   "metadata": {},
   "outputs": [],
   "source": [
    " "
   ]
  },
  {
   "cell_type": "code",
   "execution_count": 9,
   "metadata": {},
   "outputs": [],
   "source": []
  },
  {
   "cell_type": "code",
   "execution_count": null,
   "metadata": {},
   "outputs": [],
   "source": []
  }
 ],
 "metadata": {
  "kernelspec": {
   "display_name": "Python 3 (ipykernel)",
   "language": "python",
   "name": "python3"
  },
  "language_info": {
   "codemirror_mode": {
    "name": "ipython",
    "version": 3
   },
   "file_extension": ".py",
   "mimetype": "text/x-python",
   "name": "python",
   "nbconvert_exporter": "python",
   "pygments_lexer": "ipython3",
   "version": "3.11.1 (tags/v3.11.1:a7a450f, Dec  6 2022, 19:58:39) [MSC v.1934 64 bit (AMD64)]"
  },
  "orig_nbformat": 4,
  "vscode": {
   "interpreter": {
    "hash": "fbe58ca63fe33f9eeae9e71d10368d2b4a57f2b1b395836210cc60d362c66949"
   }
  }
 },
 "nbformat": 4,
 "nbformat_minor": 2
}
