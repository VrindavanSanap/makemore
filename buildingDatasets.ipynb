{
 "cells": [
  {
   "cell_type": "code",
   "execution_count": 34,
   "metadata": {},
   "outputs": [],
   "source": [
    "import requests\n",
    "from bs4 import BeautifulSoup\n",
    "baseUrl='http://www.paulgraham.com/'\n",
    "response = requests.get(baseUrl+'articles.html')\n",
    "soup = BeautifulSoup(response.text, 'html.parser')\n",
    "\n",
    "links= [tag[\"href\"] for tag in soup.find_all('a')]  # get all a tags\n",
    "links=[tag for tag in links if (tag[-4:]==\"html\")]  # get all html refs\n",
    "links= list(set(links))                             # remove reddundent elements\n",
    "links.remove('index.html')                          # remove home page\n",
    "\n",
    "\n",
    "for link in links:\n",
    "    \n",
    "    response = requests.get(baseUrl+link)\n",
    "    soup = BeautifulSoup(response.text, 'html.parser')\n",
    "    soupTitle=soup.title.text\n",
    "    soupTitle = ''.join([x for x in soupTitle if x.isalnum()]) #keep only aplhanumeric parts of title\n",
    "    \n",
    "    soupText=soup.body.text\n",
    "    soupText=soupText.replace('\\n',\" \")\n",
    "    soupText=soupText.replace(f\"\\'\",\"\")\n",
    "    soupText = soupText.encode('utf-8', errors='replace')     #python encoding shenanigans\n",
    "\n",
    "    with open(f\"data\\pg\\{soupTitle}.txt\", \"wb\") as f:\n",
    "        # Write the string to the file\n",
    "        try:\n",
    "            f.write(soupText)\n",
    "        except:\n",
    "            print(f\"ERROR PARSING {baseUrl+link}\")"
   ]
  },
  {
   "cell_type": "code",
   "execution_count": 4,
   "metadata": {},
   "outputs": [],
   "source": [
    "import requests\n",
    "englishDicUrl=\"https://raw.githubusercontent.com/dwyl/english-words/master/words_alpha.txt\"\n",
    "res=requests.get(englishDicUrl)\n",
    "with open(\"englishDic.txt\",\"w\") as f:\n",
    "    f.write(res.text.replace(\"\\r\",\"\"))"
   ]
  }
 ],
 "metadata": {
  "kernelspec": {
   "display_name": "Python 3 (ipykernel)",
   "language": "python",
   "name": "python3"
  },
  "orig_nbformat": 4
 },
 "nbformat": 4,
 "nbformat_minor": 2
}
